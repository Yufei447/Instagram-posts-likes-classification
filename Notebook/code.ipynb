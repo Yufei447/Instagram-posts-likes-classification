{
 "cells": [
  {
   "cell_type": "markdown",
   "metadata": {},
   "source": [
    "## Part 0: Load Data, packages"
   ]
  },
  {
   "cell_type": "code",
   "execution_count": 351,
   "metadata": {},
   "outputs": [],
   "source": [
    "import pandas as pd\n",
    "import numpy as np\n",
    "import seaborn as sns\n",
    "import matplotlib.pyplot as plt\n",
    "import matplotlib.ticker as ticker\n",
    "from sklearn.preprocessing import MinMaxScaler\n",
    "from sklearn import model_selection\n",
    "from sklearn.model_selection import train_test_split\n",
    "from sklearn.ensemble import RandomForestClassifier\n",
    "from sklearn.metrics import accuracy_score\n",
    "from sklearn.svm import SVC\n",
    "from sklearn.neighbors import KNeighborsClassifier\n",
    "from sklearn.ensemble import GradientBoostingClassifier\n",
    "import clip\n",
    "from PIL import Image\n",
    "import random\n",
    "import torch\n",
    "from torch import nn\n",
    "from torch import optim\n",
    "import torch.nn.functional as F\n",
    "from torchvision import datasets, transforms, models\n",
    "from torch.utils.data import Dataset, DataLoader\n",
    "from sklearn.preprocessing import LabelEncoder\n",
    "import cv2\n",
    "import copy\n",
    "from tqdm import tqdm\n",
    "import time\n",
    "from sklearn.model_selection import GridSearchCV"
   ]
  },
  {
   "cell_type": "code",
   "execution_count": 352,
   "metadata": {},
   "outputs": [],
   "source": [
    "data = pd.read_csv('../Data/instagram_data.csv')"
   ]
  },
  {
   "cell_type": "markdown",
   "metadata": {},
   "source": [
    "## Part 1: Data Exploration"
   ]
  },
  {
   "cell_type": "markdown",
   "metadata": {},
   "source": [
    "### 1.1 Overview"
   ]
  },
  {
   "cell_type": "code",
   "execution_count": 353,
   "metadata": {},
   "outputs": [
    {
     "data": {
      "text/html": [
       "<div>\n",
       "<style scoped>\n",
       "    .dataframe tbody tr th:only-of-type {\n",
       "        vertical-align: middle;\n",
       "    }\n",
       "\n",
       "    .dataframe tbody tr th {\n",
       "        vertical-align: top;\n",
       "    }\n",
       "\n",
       "    .dataframe thead th {\n",
       "        text-align: right;\n",
       "    }\n",
       "</style>\n",
       "<table border=\"1\" class=\"dataframe\">\n",
       "  <thead>\n",
       "    <tr style=\"text-align: right;\">\n",
       "      <th></th>\n",
       "      <th>likes</th>\n",
       "      <th>no_of_comments</th>\n",
       "      <th>t</th>\n",
       "      <th>follower_count_at_t</th>\n",
       "      <th>image_path</th>\n",
       "    </tr>\n",
       "  </thead>\n",
       "  <tbody>\n",
       "    <tr>\n",
       "      <th>0</th>\n",
       "      <td>154552</td>\n",
       "      <td>0</td>\n",
       "      <td>1594174009</td>\n",
       "      <td>40934474</td>\n",
       "      <td>../Data/insta_data/0.jpg</td>\n",
       "    </tr>\n",
       "    <tr>\n",
       "      <th>1</th>\n",
       "      <td>97386</td>\n",
       "      <td>0</td>\n",
       "      <td>1593571666</td>\n",
       "      <td>40934474</td>\n",
       "      <td>../Data/insta_data/2.jpg</td>\n",
       "    </tr>\n",
       "    <tr>\n",
       "      <th>2</th>\n",
       "      <td>145632</td>\n",
       "      <td>0</td>\n",
       "      <td>1593136341</td>\n",
       "      <td>40934474</td>\n",
       "      <td>../Data/insta_data/4.jpg</td>\n",
       "    </tr>\n",
       "    <tr>\n",
       "      <th>3</th>\n",
       "      <td>76461</td>\n",
       "      <td>0</td>\n",
       "      <td>1592981047</td>\n",
       "      <td>40934474</td>\n",
       "      <td>../Data/insta_data/6.jpg</td>\n",
       "    </tr>\n",
       "    <tr>\n",
       "      <th>4</th>\n",
       "      <td>174620</td>\n",
       "      <td>0</td>\n",
       "      <td>1592703461</td>\n",
       "      <td>40934474</td>\n",
       "      <td>../Data/insta_data/8.jpg</td>\n",
       "    </tr>\n",
       "  </tbody>\n",
       "</table>\n",
       "</div>"
      ],
      "text/plain": [
       "    likes  no_of_comments           t  follower_count_at_t  \\\n",
       "0  154552               0  1594174009             40934474   \n",
       "1   97386               0  1593571666             40934474   \n",
       "2  145632               0  1593136341             40934474   \n",
       "3   76461               0  1592981047             40934474   \n",
       "4  174620               0  1592703461             40934474   \n",
       "\n",
       "                 image_path  \n",
       "0  ../Data/insta_data/0.jpg  \n",
       "1  ../Data/insta_data/2.jpg  \n",
       "2  ../Data/insta_data/4.jpg  \n",
       "3  ../Data/insta_data/6.jpg  \n",
       "4  ../Data/insta_data/8.jpg  "
      ]
     },
     "execution_count": 353,
     "metadata": {},
     "output_type": "execute_result"
    }
   ],
   "source": [
    "data.head()"
   ]
  },
  {
   "cell_type": "code",
   "execution_count": 354,
   "metadata": {},
   "outputs": [
    {
     "name": "stdout",
     "output_type": "stream",
     "text": [
      "<class 'pandas.core.frame.DataFrame'>\n",
      "RangeIndex: 3785 entries, 0 to 3784\n",
      "Data columns (total 5 columns):\n",
      " #   Column               Non-Null Count  Dtype \n",
      "---  ------               --------------  ----- \n",
      " 0   likes                3785 non-null   int64 \n",
      " 1   no_of_comments       3785 non-null   int64 \n",
      " 2   t                    3785 non-null   int64 \n",
      " 3   follower_count_at_t  3785 non-null   int64 \n",
      " 4   image_path           3785 non-null   object\n",
      "dtypes: int64(4), object(1)\n",
      "memory usage: 148.0+ KB\n"
     ]
    }
   ],
   "source": [
    "data.info()"
   ]
  },
  {
   "cell_type": "markdown",
   "metadata": {},
   "source": [
    "### 1.2 Exclude erroneous data"
   ]
  },
  {
   "cell_type": "code",
   "execution_count": 355,
   "metadata": {},
   "outputs": [
    {
     "name": "stdout",
     "output_type": "stream",
     "text": [
      "No duplicated post\n"
     ]
    }
   ],
   "source": [
    "if data['image_path'].duplicated().sum()==0:\n",
    "  print('No duplicated post')"
   ]
  },
  {
   "cell_type": "markdown",
   "metadata": {},
   "source": [
    "### 1.3 Check missing data"
   ]
  },
  {
   "cell_type": "code",
   "execution_count": 356,
   "metadata": {},
   "outputs": [
    {
     "data": {
      "text/plain": [
       "likes                  0\n",
       "no_of_comments         0\n",
       "t                      0\n",
       "follower_count_at_t    0\n",
       "image_path             0\n",
       "dtype: int64"
      ]
     },
     "execution_count": 356,
     "metadata": {},
     "output_type": "execute_result"
    }
   ],
   "source": [
    "data.isnull().sum()"
   ]
  },
  {
   "cell_type": "markdown",
   "metadata": {},
   "source": [
    "### 1.4 Explore numerical features distribution"
   ]
  },
  {
   "cell_type": "markdown",
   "metadata": {},
   "source": [
    "#### 1.4.1 response "
   ]
  },
  {
   "cell_type": "code",
   "execution_count": 357,
   "metadata": {},
   "outputs": [
    {
     "data": {
      "text/html": [
       "<div>\n",
       "<style scoped>\n",
       "    .dataframe tbody tr th:only-of-type {\n",
       "        vertical-align: middle;\n",
       "    }\n",
       "\n",
       "    .dataframe tbody tr th {\n",
       "        vertical-align: top;\n",
       "    }\n",
       "\n",
       "    .dataframe thead th {\n",
       "        text-align: right;\n",
       "    }\n",
       "</style>\n",
       "<table border=\"1\" class=\"dataframe\">\n",
       "  <thead>\n",
       "    <tr style=\"text-align: right;\">\n",
       "      <th></th>\n",
       "      <th>likes</th>\n",
       "      <th>no_of_comments</th>\n",
       "      <th>t</th>\n",
       "      <th>follower_count_at_t</th>\n",
       "    </tr>\n",
       "  </thead>\n",
       "  <tbody>\n",
       "    <tr>\n",
       "      <th>count</th>\n",
       "      <td>3.785000e+03</td>\n",
       "      <td>3785.000000</td>\n",
       "      <td>3.785000e+03</td>\n",
       "      <td>3.785000e+03</td>\n",
       "    </tr>\n",
       "    <tr>\n",
       "      <th>mean</th>\n",
       "      <td>1.832536e+05</td>\n",
       "      <td>2531.382827</td>\n",
       "      <td>1.585137e+09</td>\n",
       "      <td>1.409485e+07</td>\n",
       "    </tr>\n",
       "    <tr>\n",
       "      <th>std</th>\n",
       "      <td>1.936969e+05</td>\n",
       "      <td>21064.081137</td>\n",
       "      <td>1.322603e+07</td>\n",
       "      <td>9.402605e+06</td>\n",
       "    </tr>\n",
       "    <tr>\n",
       "      <th>min</th>\n",
       "      <td>1.431000e+03</td>\n",
       "      <td>0.000000</td>\n",
       "      <td>1.489547e+09</td>\n",
       "      <td>1.870000e+02</td>\n",
       "    </tr>\n",
       "    <tr>\n",
       "      <th>25%</th>\n",
       "      <td>5.208700e+04</td>\n",
       "      <td>194.000000</td>\n",
       "      <td>1.582540e+09</td>\n",
       "      <td>7.296298e+06</td>\n",
       "    </tr>\n",
       "    <tr>\n",
       "      <th>50%</th>\n",
       "      <td>1.236640e+05</td>\n",
       "      <td>484.000000</td>\n",
       "      <td>1.588855e+09</td>\n",
       "      <td>1.104970e+07</td>\n",
       "    </tr>\n",
       "    <tr>\n",
       "      <th>75%</th>\n",
       "      <td>2.431440e+05</td>\n",
       "      <td>1337.000000</td>\n",
       "      <td>1.592738e+09</td>\n",
       "      <td>1.836292e+07</td>\n",
       "    </tr>\n",
       "    <tr>\n",
       "      <th>max</th>\n",
       "      <td>2.161369e+06</td>\n",
       "      <td>733973.000000</td>\n",
       "      <td>1.594541e+09</td>\n",
       "      <td>4.093447e+07</td>\n",
       "    </tr>\n",
       "  </tbody>\n",
       "</table>\n",
       "</div>"
      ],
      "text/plain": [
       "              likes  no_of_comments             t  follower_count_at_t\n",
       "count  3.785000e+03     3785.000000  3.785000e+03         3.785000e+03\n",
       "mean   1.832536e+05     2531.382827  1.585137e+09         1.409485e+07\n",
       "std    1.936969e+05    21064.081137  1.322603e+07         9.402605e+06\n",
       "min    1.431000e+03        0.000000  1.489547e+09         1.870000e+02\n",
       "25%    5.208700e+04      194.000000  1.582540e+09         7.296298e+06\n",
       "50%    1.236640e+05      484.000000  1.588855e+09         1.104970e+07\n",
       "75%    2.431440e+05     1337.000000  1.592738e+09         1.836292e+07\n",
       "max    2.161369e+06   733973.000000  1.594541e+09         4.093447e+07"
      ]
     },
     "execution_count": 357,
     "metadata": {},
     "output_type": "execute_result"
    }
   ],
   "source": [
    "data.describe()"
   ]
  },
  {
   "cell_type": "code",
   "execution_count": 358,
   "metadata": {},
   "outputs": [
    {
     "data": {
      "image/png": "[encoded data removed]",
      "text/plain": [
       "<Figure size 1000x600 with 1 Axes>"
      ]
     },
     "metadata": {},
     "output_type": "display_data"
    }
   ],
   "source": [
    "weights = (np.ones_like(data['likes']) / len(data['likes'])) * 100\n",
    "plt.figure(figsize=(10, 6))\n",
    "plt.hist(data['likes'], bins=30, weights=weights, color='blue', edgecolor='black', alpha=0.7)\n",
    "plt.title('Histogram of Instagram Post Likes')\n",
    "plt.xlabel('Number of Likes')\n",
    "plt.ylabel('Percentage of Total Posts (%)')\n",
    "plt.gca().xaxis.set_major_formatter(ticker.StrMethodFormatter('{x:,.0f}'))\n",
    "plt.gca().xaxis.set_major_locator(ticker.MaxNLocator(10))\n",
    "plt.gca().yaxis.set_major_formatter(plt.FuncFormatter(lambda y, _: f'{y:.0f}%'))\n",
    "plt.grid(True)\n",
    "plt.show()"
   ]
  },
  {
   "cell_type": "markdown",
   "metadata": {},
   "source": [
    "As can be seen from the above figure, the distribution of the number of Instagram post likes is skewed, more than 50% of posts gets like count below than the average. This distribution can be consider as long tail distribution, which indicates that the majority of the posts have a relatively low like count. \n",
    "\n",
    "Also, it can be categorically segmented into 'low', 'medium', and 'high' categories based on the number of likes."
   ]
  },
  {
   "cell_type": "code",
   "execution_count": 359,
   "metadata": {},
   "outputs": [],
   "source": [
    "data['class'] = pd.qcut(data['likes'], 3, labels=[\"low\", \"medium\", \"high\"])"
   ]
  },
  {
   "cell_type": "code",
   "execution_count": 360,
   "metadata": {},
   "outputs": [
    {
     "name": "stdout",
     "output_type": "stream",
     "text": [
      "First tertile cutoff: 68969.99999999999\n",
      "Second tertile cutoff: 192844.33333333328\n"
     ]
    }
   ],
   "source": [
    "quantile_1 = data['likes'].quantile(1/3)\n",
    "quantile_2 = data['likes'].quantile(2/3)\n",
    "\n",
    "print(f\"First tertile cutoff: {quantile_1}\")\n",
    "print(f\"Second tertile cutoff: {quantile_2}\")"
   ]
  },
  {
   "cell_type": "code",
   "execution_count": 361,
   "metadata": {},
   "outputs": [
    {
     "data": {
      "image/png": "[encoded data removed]",
      "text/plain": [
       "<Figure size 1000x600 with 1 Axes>"
      ]
     },
     "metadata": {},
     "output_type": "display_data"
    }
   ],
   "source": [
    "weights = (np.ones_like(data['likes']) / len(data['likes'])) * 100\n",
    "plt.figure(figsize=(10, 6))\n",
    "plt.hist(data['likes'], bins=30, weights=weights, color='blue', edgecolor='black', alpha=0.7)\n",
    "plt.axvline(quantile_1, color='red', linewidth=2)\n",
    "plt.axvline(quantile_2, color='green', linewidth=2)\n",
    "plt.title('Histogram of Instagram Post Likes')\n",
    "plt.xlabel('Number of Likes')\n",
    "plt.ylabel('Percentage of Total Posts (%)')\n",
    "plt.gca().xaxis.set_major_formatter(ticker.StrMethodFormatter('{x:,.0f}'))\n",
    "plt.gca().xaxis.set_major_locator(ticker.MaxNLocator(10))\n",
    "plt.gca().yaxis.set_major_formatter(plt.FuncFormatter(lambda y, _: f'{y:.0f}%'))\n",
    "plt.grid(True)\n",
    "plt.show()"
   ]
  },
  {
   "cell_type": "markdown",
   "metadata": {},
   "source": [
    "The histogram now displays the quantile thresholds as solid lines. The red line shows the first tertile cutoff and the green line the second tertile cutoff. These solid lines indicate where the data is split into 'low', 'medium', and 'high' categories based on the number of likes."
   ]
  },
  {
   "cell_type": "markdown",
   "metadata": {},
   "source": [
    "#### 1.4.2 `no_of_comments` feature"
   ]
  },
  {
   "cell_type": "code",
   "execution_count": 362,
   "metadata": {},
   "outputs": [
    {
     "data": {
      "image/png": "[encoded data removed]",
      "text/plain": [
       "<Figure size 1000x600 with 1 Axes>"
      ]
     },
     "metadata": {},
     "output_type": "display_data"
    }
   ],
   "source": [
    "plt.figure(figsize=(10, 6))\n",
    "plt.hist(data['no_of_comments'], color='green', edgecolor='black', alpha=0.7)\n",
    "plt.title('Histogram of Instagram Post Comments')\n",
    "plt.xlabel('Number of Comments')\n",
    "plt.ylabel('Total Counts')\n",
    "plt.grid(True)\n",
    "plt.show()"
   ]
  },
  {
   "cell_type": "markdown",
   "metadata": {},
   "source": [
    "As can be seen from the above histogram, the distribution of `no_of_comments` is highly skewed. Compute the distribution statistics for further analysis."
   ]
  },
  {
   "cell_type": "code",
   "execution_count": 363,
   "metadata": {},
   "outputs": [
    {
     "data": {
      "text/plain": [
       "count      3785.000000\n",
       "mean       2531.382827\n",
       "std       21064.081137\n",
       "min           0.000000\n",
       "0%            0.000000\n",
       "25%         194.000000\n",
       "50%         484.000000\n",
       "75%        1337.000000\n",
       "90%        3458.600000\n",
       "95%        6067.200000\n",
       "max      733973.000000\n",
       "Name: no_of_comments, dtype: float64"
      ]
     },
     "execution_count": 363,
     "metadata": {},
     "output_type": "execute_result"
    }
   ],
   "source": [
    "data['no_of_comments'].describe(percentiles=[0,0.25,0.5,0.75,0.9,0.95])"
   ]
  },
  {
   "cell_type": "markdown",
   "metadata": {},
   "source": [
    "As can be seen from the above table, the `no_of_comments` feature is heavily right-skewed, indicated by a mean (2,531.38) that is much higher than the median (484). A sharp increase in values at the higher percentiles (3,458.6 at 90% and 6,067.2 at 95%) indicates that the top 5-10% of observations are substantially higher than the rest. The maximum value (733,973) is an extreme outlier, much higher than even the 95th percentile. This suggests that such high values are rare but have a substantial impact on the overall distribution. Since the number of comments can be seen as the social media engagement, the data suggests that while most posts/activities have modest engagement, a few have exceptionally high engagement."
   ]
  },
  {
   "cell_type": "markdown",
   "metadata": {},
   "source": [
    "#### 1.4.3 `follower_count_at_t` feature"
   ]
  },
  {
   "cell_type": "code",
   "execution_count": 364,
   "metadata": {},
   "outputs": [
    {
     "data": {
      "image/png": "[encoded data removed]",
      "text/plain": [
       "<Figure size 1000x600 with 1 Axes>"
      ]
     },
     "metadata": {},
     "output_type": "display_data"
    }
   ],
   "source": [
    "plt.figure(figsize=(10, 6))\n",
    "plt.hist(data['follower_count_at_t'], color='red', edgecolor='black', alpha=0.5)\n",
    "plt.title('Histogram of Instagram Profile Followers')\n",
    "plt.xlabel('Number of Followers')\n",
    "plt.gca().xaxis.set_major_formatter(ticker.StrMethodFormatter('{x:,.0f}'))\n",
    "plt.ylabel('Total Counts')\n",
    "plt.grid(True)\n",
    "plt.show()"
   ]
  },
  {
   "cell_type": "markdown",
   "metadata": {},
   "source": [
    "Compared to the above two features, the `follower_count_at_t` feature distributed more uniformly."
   ]
  },
  {
   "cell_type": "markdown",
   "metadata": {},
   "source": [
    "### 1.5 Check outliers"
   ]
  },
  {
   "cell_type": "code",
   "execution_count": 365,
   "metadata": {},
   "outputs": [
    {
     "data": {
      "image/png": "[encoded data removed]",
      "text/plain": [
       "<Figure size 2000x1000 with 3 Axes>"
      ]
     },
     "metadata": {},
     "output_type": "display_data"
    }
   ],
   "source": [
    "_, axes = plt.subplots(1,3, figsize=[20,10])  \n",
    "sns.boxplot(y ='likes', data=data, ax=axes[0])\n",
    "sns.boxplot(y ='no_of_comments', data=data, ax=axes[1])\n",
    "sns.boxplot(y ='follower_count_at_t', data=data, ax=axes[2])\n",
    "plt.suptitle('Box Plots for numerical features', fontsize=30)\n",
    "plt.show()"
   ]
  },
  {
   "cell_type": "markdown",
   "metadata": {},
   "source": [
    "Allign with the analysis presented in the section 1.4, the feature `no_of_comments` exhibits outliers, which may need further process."
   ]
  },
  {
   "cell_type": "markdown",
   "metadata": {},
   "source": [
    "## Part 2: Data Preprocessing"
   ]
  },
  {
   "cell_type": "markdown",
   "metadata": {},
   "source": [
    "### 2.1 Convert time type"
   ]
  },
  {
   "cell_type": "code",
   "execution_count": 366,
   "metadata": {},
   "outputs": [],
   "source": [
    "data['t'] = pd.to_datetime(data['t'], unit='s')"
   ]
  },
  {
   "cell_type": "code",
   "execution_count": 367,
   "metadata": {},
   "outputs": [
    {
     "data": {
      "text/html": [
       "<div>\n",
       "<style scoped>\n",
       "    .dataframe tbody tr th:only-of-type {\n",
       "        vertical-align: middle;\n",
       "    }\n",
       "\n",
       "    .dataframe tbody tr th {\n",
       "        vertical-align: top;\n",
       "    }\n",
       "\n",
       "    .dataframe thead th {\n",
       "        text-align: right;\n",
       "    }\n",
       "</style>\n",
       "<table border=\"1\" class=\"dataframe\">\n",
       "  <thead>\n",
       "    <tr style=\"text-align: right;\">\n",
       "      <th></th>\n",
       "      <th>likes</th>\n",
       "      <th>no_of_comments</th>\n",
       "      <th>t</th>\n",
       "      <th>follower_count_at_t</th>\n",
       "      <th>image_path</th>\n",
       "      <th>class</th>\n",
       "    </tr>\n",
       "  </thead>\n",
       "  <tbody>\n",
       "    <tr>\n",
       "      <th>0</th>\n",
       "      <td>154552</td>\n",
       "      <td>0</td>\n",
       "      <td>2020-07-08 02:06:49</td>\n",
       "      <td>40934474</td>\n",
       "      <td>../Data/insta_data/0.jpg</td>\n",
       "      <td>medium</td>\n",
       "    </tr>\n",
       "    <tr>\n",
       "      <th>1</th>\n",
       "      <td>97386</td>\n",
       "      <td>0</td>\n",
       "      <td>2020-07-01 02:47:46</td>\n",
       "      <td>40934474</td>\n",
       "      <td>../Data/insta_data/2.jpg</td>\n",
       "      <td>medium</td>\n",
       "    </tr>\n",
       "    <tr>\n",
       "      <th>2</th>\n",
       "      <td>145632</td>\n",
       "      <td>0</td>\n",
       "      <td>2020-06-26 01:52:21</td>\n",
       "      <td>40934474</td>\n",
       "      <td>../Data/insta_data/4.jpg</td>\n",
       "      <td>medium</td>\n",
       "    </tr>\n",
       "    <tr>\n",
       "      <th>3</th>\n",
       "      <td>76461</td>\n",
       "      <td>0</td>\n",
       "      <td>2020-06-24 06:44:07</td>\n",
       "      <td>40934474</td>\n",
       "      <td>../Data/insta_data/6.jpg</td>\n",
       "      <td>medium</td>\n",
       "    </tr>\n",
       "    <tr>\n",
       "      <th>4</th>\n",
       "      <td>174620</td>\n",
       "      <td>0</td>\n",
       "      <td>2020-06-21 01:37:41</td>\n",
       "      <td>40934474</td>\n",
       "      <td>../Data/insta_data/8.jpg</td>\n",
       "      <td>medium</td>\n",
       "    </tr>\n",
       "  </tbody>\n",
       "</table>\n",
       "</div>"
      ],
      "text/plain": [
       "    likes  no_of_comments                   t  follower_count_at_t  \\\n",
       "0  154552               0 2020-07-08 02:06:49             40934474   \n",
       "1   97386               0 2020-07-01 02:47:46             40934474   \n",
       "2  145632               0 2020-06-26 01:52:21             40934474   \n",
       "3   76461               0 2020-06-24 06:44:07             40934474   \n",
       "4  174620               0 2020-06-21 01:37:41             40934474   \n",
       "\n",
       "                 image_path   class  \n",
       "0  ../Data/insta_data/0.jpg  medium  \n",
       "1  ../Data/insta_data/2.jpg  medium  \n",
       "2  ../Data/insta_data/4.jpg  medium  \n",
       "3  ../Data/insta_data/6.jpg  medium  \n",
       "4  ../Data/insta_data/8.jpg  medium  "
      ]
     },
     "execution_count": 367,
     "metadata": {},
     "output_type": "execute_result"
    }
   ],
   "source": [
    "data.head()"
   ]
  },
  {
   "cell_type": "markdown",
   "metadata": {},
   "source": [
    "### 2.2 Remove outliers"
   ]
  },
  {
   "cell_type": "code",
   "execution_count": 368,
   "metadata": {},
   "outputs": [
    {
     "data": {
      "text/html": [
       "<div>\n",
       "<style scoped>\n",
       "    .dataframe tbody tr th:only-of-type {\n",
       "        vertical-align: middle;\n",
       "    }\n",
       "\n",
       "    .dataframe tbody tr th {\n",
       "        vertical-align: top;\n",
       "    }\n",
       "\n",
       "    .dataframe thead th {\n",
       "        text-align: right;\n",
       "    }\n",
       "</style>\n",
       "<table border=\"1\" class=\"dataframe\">\n",
       "  <thead>\n",
       "    <tr style=\"text-align: right;\">\n",
       "      <th></th>\n",
       "      <th>likes</th>\n",
       "      <th>no_of_comments</th>\n",
       "      <th>t</th>\n",
       "      <th>follower_count_at_t</th>\n",
       "      <th>image_path</th>\n",
       "      <th>class</th>\n",
       "    </tr>\n",
       "  </thead>\n",
       "  <tbody>\n",
       "    <tr>\n",
       "      <th>591</th>\n",
       "      <td>2161369</td>\n",
       "      <td>37106</td>\n",
       "      <td>2020-05-28 08:11:25</td>\n",
       "      <td>21737604</td>\n",
       "      <td>../Data/insta_data/1471.jpg</td>\n",
       "      <td>high</td>\n",
       "    </tr>\n",
       "    <tr>\n",
       "      <th>593</th>\n",
       "      <td>2127367</td>\n",
       "      <td>17250</td>\n",
       "      <td>2020-05-24 04:15:59</td>\n",
       "      <td>21737604</td>\n",
       "      <td>../Data/insta_data/1474.jpg</td>\n",
       "      <td>high</td>\n",
       "    </tr>\n",
       "  </tbody>\n",
       "</table>\n",
       "</div>"
      ],
      "text/plain": [
       "       likes  no_of_comments                   t  follower_count_at_t  \\\n",
       "591  2161369           37106 2020-05-28 08:11:25             21737604   \n",
       "593  2127367           17250 2020-05-24 04:15:59             21737604   \n",
       "\n",
       "                      image_path class  \n",
       "591  ../Data/insta_data/1471.jpg  high  \n",
       "593  ../Data/insta_data/1474.jpg  high  "
      ]
     },
     "execution_count": 368,
     "metadata": {},
     "output_type": "execute_result"
    }
   ],
   "source": [
    "data[(data['likes']) > 2e6]"
   ]
  },
  {
   "cell_type": "code",
   "execution_count": 369,
   "metadata": {},
   "outputs": [
    {
     "data": {
      "text/plain": [
       "count      3785.000000\n",
       "mean       2531.382827\n",
       "std       21064.081137\n",
       "min           0.000000\n",
       "50%         484.000000\n",
       "90%        3458.600000\n",
       "91%        3785.440000\n",
       "92%        4117.280000\n",
       "93%        4705.360000\n",
       "94%        5300.040000\n",
       "95%        6067.200000\n",
       "96%        7424.240000\n",
       "97%        9450.800000\n",
       "98%       13088.040000\n",
       "99%       23331.520000\n",
       "100%     733973.000000\n",
       "max      733973.000000\n",
       "Name: no_of_comments, dtype: float64"
      ]
     },
     "execution_count": 369,
     "metadata": {},
     "output_type": "execute_result"
    }
   ],
   "source": [
    "data['no_of_comments'].describe(percentiles=np.linspace(0.9,1.0,11))"
   ]
  },
  {
   "cell_type": "code",
   "execution_count": 370,
   "metadata": {},
   "outputs": [
    {
     "data": {
      "text/html": [
       "<div>\n",
       "<style scoped>\n",
       "    .dataframe tbody tr th:only-of-type {\n",
       "        vertical-align: middle;\n",
       "    }\n",
       "\n",
       "    .dataframe tbody tr th {\n",
       "        vertical-align: top;\n",
       "    }\n",
       "\n",
       "    .dataframe thead th {\n",
       "        text-align: right;\n",
       "    }\n",
       "</style>\n",
       "<table border=\"1\" class=\"dataframe\">\n",
       "  <thead>\n",
       "    <tr style=\"text-align: right;\">\n",
       "      <th></th>\n",
       "      <th>likes</th>\n",
       "      <th>no_of_comments</th>\n",
       "      <th>t</th>\n",
       "      <th>follower_count_at_t</th>\n",
       "      <th>image_path</th>\n",
       "      <th>class</th>\n",
       "    </tr>\n",
       "  </thead>\n",
       "  <tbody>\n",
       "    <tr>\n",
       "      <th>49</th>\n",
       "      <td>44899</td>\n",
       "      <td>148536</td>\n",
       "      <td>2020-07-08 11:35:52</td>\n",
       "      <td>37229501</td>\n",
       "      <td>../Data/insta_data/194.jpg</td>\n",
       "      <td>low</td>\n",
       "    </tr>\n",
       "    <tr>\n",
       "      <th>70</th>\n",
       "      <td>64193</td>\n",
       "      <td>179496</td>\n",
       "      <td>2020-06-13 11:30:22</td>\n",
       "      <td>37229501</td>\n",
       "      <td>../Data/insta_data/254.jpg</td>\n",
       "      <td>low</td>\n",
       "    </tr>\n",
       "    <tr>\n",
       "      <th>71</th>\n",
       "      <td>81200</td>\n",
       "      <td>187754</td>\n",
       "      <td>2020-06-07 02:05:45</td>\n",
       "      <td>37229501</td>\n",
       "      <td>../Data/insta_data/260.jpg</td>\n",
       "      <td>medium</td>\n",
       "    </tr>\n",
       "    <tr>\n",
       "      <th>72</th>\n",
       "      <td>61245</td>\n",
       "      <td>167991</td>\n",
       "      <td>2020-06-06 08:17:44</td>\n",
       "      <td>37229501</td>\n",
       "      <td>../Data/insta_data/263.jpg</td>\n",
       "      <td>low</td>\n",
       "    </tr>\n",
       "    <tr>\n",
       "      <th>81</th>\n",
       "      <td>158977</td>\n",
       "      <td>733973</td>\n",
       "      <td>2020-05-22 11:01:59</td>\n",
       "      <td>37229501</td>\n",
       "      <td>../Data/insta_data/297.jpg</td>\n",
       "      <td>medium</td>\n",
       "    </tr>\n",
       "    <tr>\n",
       "      <th>471</th>\n",
       "      <td>358794</td>\n",
       "      <td>279364</td>\n",
       "      <td>2020-06-20 04:30:13</td>\n",
       "      <td>25510324</td>\n",
       "      <td>../Data/insta_data/1163.jpg</td>\n",
       "      <td>high</td>\n",
       "    </tr>\n",
       "    <tr>\n",
       "      <th>884</th>\n",
       "      <td>662093</td>\n",
       "      <td>160827</td>\n",
       "      <td>2020-05-13 08:08:13</td>\n",
       "      <td>24744858</td>\n",
       "      <td>../Data/insta_data/2043.jpg</td>\n",
       "      <td>high</td>\n",
       "    </tr>\n",
       "    <tr>\n",
       "      <th>932</th>\n",
       "      <td>86207</td>\n",
       "      <td>415940</td>\n",
       "      <td>2020-06-20 12:26:25</td>\n",
       "      <td>21735444</td>\n",
       "      <td>../Data/insta_data/2134.jpg</td>\n",
       "      <td>medium</td>\n",
       "    </tr>\n",
       "    <tr>\n",
       "      <th>3143</th>\n",
       "      <td>574494</td>\n",
       "      <td>682323</td>\n",
       "      <td>2020-05-24 11:42:53</td>\n",
       "      <td>5978085</td>\n",
       "      <td>../Data/insta_data/7483.jpg</td>\n",
       "      <td>high</td>\n",
       "    </tr>\n",
       "    <tr>\n",
       "      <th>3144</th>\n",
       "      <td>320695</td>\n",
       "      <td>425096</td>\n",
       "      <td>2020-05-23 09:39:10</td>\n",
       "      <td>5978085</td>\n",
       "      <td>../Data/insta_data/7484.jpg</td>\n",
       "      <td>high</td>\n",
       "    </tr>\n",
       "    <tr>\n",
       "      <th>3435</th>\n",
       "      <td>31998</td>\n",
       "      <td>215865</td>\n",
       "      <td>2020-07-07 05:00:49</td>\n",
       "      <td>8809478</td>\n",
       "      <td>../Data/insta_data/8536.jpg</td>\n",
       "      <td>low</td>\n",
       "    </tr>\n",
       "  </tbody>\n",
       "</table>\n",
       "</div>"
      ],
      "text/plain": [
       "       likes  no_of_comments                   t  follower_count_at_t  \\\n",
       "49     44899          148536 2020-07-08 11:35:52             37229501   \n",
       "70     64193          179496 2020-06-13 11:30:22             37229501   \n",
       "71     81200          187754 2020-06-07 02:05:45             37229501   \n",
       "72     61245          167991 2020-06-06 08:17:44             37229501   \n",
       "81    158977          733973 2020-05-22 11:01:59             37229501   \n",
       "471   358794          279364 2020-06-20 04:30:13             25510324   \n",
       "884   662093          160827 2020-05-13 08:08:13             24744858   \n",
       "932    86207          415940 2020-06-20 12:26:25             21735444   \n",
       "3143  574494          682323 2020-05-24 11:42:53              5978085   \n",
       "3144  320695          425096 2020-05-23 09:39:10              5978085   \n",
       "3435   31998          215865 2020-07-07 05:00:49              8809478   \n",
       "\n",
       "                       image_path   class  \n",
       "49     ../Data/insta_data/194.jpg     low  \n",
       "70     ../Data/insta_data/254.jpg     low  \n",
       "71     ../Data/insta_data/260.jpg  medium  \n",
       "72     ../Data/insta_data/263.jpg     low  \n",
       "81     ../Data/insta_data/297.jpg  medium  \n",
       "471   ../Data/insta_data/1163.jpg    high  \n",
       "884   ../Data/insta_data/2043.jpg    high  \n",
       "932   ../Data/insta_data/2134.jpg  medium  \n",
       "3143  ../Data/insta_data/7483.jpg    high  \n",
       "3144  ../Data/insta_data/7484.jpg    high  \n",
       "3435  ../Data/insta_data/8536.jpg     low  "
      ]
     },
     "execution_count": 370,
     "metadata": {},
     "output_type": "execute_result"
    }
   ],
   "source": [
    "data[(data['no_of_comments']) > 100000]"
   ]
  },
  {
   "cell_type": "code",
   "execution_count": 371,
   "metadata": {},
   "outputs": [
    {
     "data": {
      "text/plain": [
       "array([40934474, 40220549])"
      ]
     },
     "execution_count": 371,
     "metadata": {},
     "output_type": "execute_result"
    }
   ],
   "source": [
    "data[(data['follower_count_at_t'] > 4e7)]['follower_count_at_t'].unique()"
   ]
  },
  {
   "cell_type": "markdown",
   "metadata": {},
   "source": [
    "There are basically 2 bloggers who get followers greater than 40 millions."
   ]
  },
  {
   "cell_type": "code",
   "execution_count": 372,
   "metadata": {},
   "outputs": [],
   "source": [
    "data_cleaned = data[(data['likes'] < 2e6)]\n",
    "data_cleaned = data_cleaned[(data_cleaned['no_of_comments']) < 100000]\n",
    "data_cleaned = data_cleaned[(data_cleaned['follower_count_at_t'] < 4e7)]"
   ]
  },
  {
   "cell_type": "code",
   "execution_count": 373,
   "metadata": {},
   "outputs": [
    {
     "data": {
      "text/plain": [
       "(3656, 6)"
      ]
     },
     "execution_count": 373,
     "metadata": {},
     "output_type": "execute_result"
    }
   ],
   "source": [
    "data_cleaned.shape"
   ]
  },
  {
   "cell_type": "markdown",
   "metadata": {},
   "source": [
    "### 2.3 Feature Engineering"
   ]
  },
  {
   "cell_type": "code",
   "execution_count": 374,
   "metadata": {},
   "outputs": [],
   "source": [
    "data_new = data_cleaned.copy()\n",
    "data_new['comments_to_followers_ratio'] = data_cleaned['no_of_comments'] / data_cleaned['follower_count_at_t']"
   ]
  },
  {
   "cell_type": "code",
   "execution_count": 375,
   "metadata": {},
   "outputs": [],
   "source": [
    "# Extracting numerical features from datetime\n",
    "data_new['year'] = data_new['t'].dt.year\n",
    "data_new['month'] = data_new['t'].dt.month\n",
    "data_new['day'] = data_new['t'].dt.day\n",
    "data_new['weekday'] = data_new['t'].dt.weekday\n",
    "data_new['hour'] = data_new['t'].dt.hour"
   ]
  },
  {
   "cell_type": "code",
   "execution_count": 376,
   "metadata": {},
   "outputs": [
    {
     "data": {
      "text/html": [
       "<div>\n",
       "<style scoped>\n",
       "    .dataframe tbody tr th:only-of-type {\n",
       "        vertical-align: middle;\n",
       "    }\n",
       "\n",
       "    .dataframe tbody tr th {\n",
       "        vertical-align: top;\n",
       "    }\n",
       "\n",
       "    .dataframe thead th {\n",
       "        text-align: right;\n",
       "    }\n",
       "</style>\n",
       "<table border=\"1\" class=\"dataframe\">\n",
       "  <thead>\n",
       "    <tr style=\"text-align: right;\">\n",
       "      <th></th>\n",
       "      <th>no_of_comments</th>\n",
       "      <th>follower_count_at_t</th>\n",
       "      <th>image_path</th>\n",
       "      <th>class</th>\n",
       "      <th>comments_to_followers_ratio</th>\n",
       "      <th>year</th>\n",
       "      <th>month</th>\n",
       "      <th>day</th>\n",
       "      <th>weekday</th>\n",
       "      <th>hour</th>\n",
       "    </tr>\n",
       "  </thead>\n",
       "  <tbody>\n",
       "    <tr>\n",
       "      <th>38</th>\n",
       "      <td>584</td>\n",
       "      <td>37729625</td>\n",
       "      <td>../Data/insta_data/93.jpg</td>\n",
       "      <td>medium</td>\n",
       "      <td>0.000015</td>\n",
       "      <td>2020</td>\n",
       "      <td>6</td>\n",
       "      <td>23</td>\n",
       "      <td>1</td>\n",
       "      <td>4</td>\n",
       "    </tr>\n",
       "    <tr>\n",
       "      <th>39</th>\n",
       "      <td>1581</td>\n",
       "      <td>37729625</td>\n",
       "      <td>../Data/insta_data/96.jpg</td>\n",
       "      <td>high</td>\n",
       "      <td>0.000042</td>\n",
       "      <td>2020</td>\n",
       "      <td>6</td>\n",
       "      <td>22</td>\n",
       "      <td>0</td>\n",
       "      <td>2</td>\n",
       "    </tr>\n",
       "    <tr>\n",
       "      <th>40</th>\n",
       "      <td>510</td>\n",
       "      <td>37729625</td>\n",
       "      <td>../Data/insta_data/97.jpg</td>\n",
       "      <td>medium</td>\n",
       "      <td>0.000014</td>\n",
       "      <td>2020</td>\n",
       "      <td>6</td>\n",
       "      <td>22</td>\n",
       "      <td>0</td>\n",
       "      <td>1</td>\n",
       "    </tr>\n",
       "    <tr>\n",
       "      <th>41</th>\n",
       "      <td>364</td>\n",
       "      <td>37729625</td>\n",
       "      <td>../Data/insta_data/102.jpg</td>\n",
       "      <td>medium</td>\n",
       "      <td>0.000010</td>\n",
       "      <td>2020</td>\n",
       "      <td>6</td>\n",
       "      <td>6</td>\n",
       "      <td>5</td>\n",
       "      <td>12</td>\n",
       "    </tr>\n",
       "    <tr>\n",
       "      <th>42</th>\n",
       "      <td>975</td>\n",
       "      <td>37729625</td>\n",
       "      <td>../Data/insta_data/116.jpg</td>\n",
       "      <td>high</td>\n",
       "      <td>0.000026</td>\n",
       "      <td>2020</td>\n",
       "      <td>4</td>\n",
       "      <td>23</td>\n",
       "      <td>3</td>\n",
       "      <td>12</td>\n",
       "    </tr>\n",
       "  </tbody>\n",
       "</table>\n",
       "</div>"
      ],
      "text/plain": [
       "    no_of_comments  follower_count_at_t                  image_path   class  \\\n",
       "38             584             37729625   ../Data/insta_data/93.jpg  medium   \n",
       "39            1581             37729625   ../Data/insta_data/96.jpg    high   \n",
       "40             510             37729625   ../Data/insta_data/97.jpg  medium   \n",
       "41             364             37729625  ../Data/insta_data/102.jpg  medium   \n",
       "42             975             37729625  ../Data/insta_data/116.jpg    high   \n",
       "\n",
       "    comments_to_followers_ratio  year  month  day  weekday  hour  \n",
       "38                     0.000015  2020      6   23        1     4  \n",
       "39                     0.000042  2020      6   22        0     2  \n",
       "40                     0.000014  2020      6   22        0     1  \n",
       "41                     0.000010  2020      6    6        5    12  \n",
       "42                     0.000026  2020      4   23        3    12  "
      ]
     },
     "execution_count": 376,
     "metadata": {},
     "output_type": "execute_result"
    }
   ],
   "source": [
    "data_new = data_new.drop(['likes', 't'], axis=1)\n",
    "data_new.head()"
   ]
  },
  {
   "cell_type": "markdown",
   "metadata": {},
   "source": [
    "### 2.4 Correlation among numerical features"
   ]
  },
  {
   "cell_type": "code",
   "execution_count": 377,
   "metadata": {},
   "outputs": [
    {
     "data": {
      "text/plain": [
       "Index(['no_of_comments', 'follower_count_at_t', 'image_path', 'class',\n",
       "       'comments_to_followers_ratio', 'year', 'month', 'day', 'weekday',\n",
       "       'hour'],\n",
       "      dtype='object')"
      ]
     },
     "execution_count": 377,
     "metadata": {},
     "output_type": "execute_result"
    }
   ],
   "source": [
    "data_new.columns"
   ]
  },
  {
   "cell_type": "code",
   "execution_count": 378,
   "metadata": {},
   "outputs": [
    {
     "data": {
      "text/plain": [
       "<Axes: >"
      ]
     },
     "execution_count": 378,
     "metadata": {},
     "output_type": "execute_result"
    },
    {
     "data": {
      "image/png": "[encoded data removed]",
      "text/plain": [
       "<Figure size 640x480 with 2 Axes>"
      ]
     },
     "metadata": {},
     "output_type": "display_data"
    }
   ],
   "source": [
    "corr = data_new[['no_of_comments', 'follower_count_at_t', 'comments_to_followers_ratio', 'year', 'month', 'day', 'weekday','hour']].corr()\n",
    "sns.heatmap(corr, cmap=\"YlGnBu\")"
   ]
  },
  {
   "cell_type": "markdown",
   "metadata": {},
   "source": [
    "## Part 3: Simple Models Training without Pictures"
   ]
  },
  {
   "cell_type": "markdown",
   "metadata": {},
   "source": [
    "### 3.1 Datasets splitting"
   ]
  },
  {
   "cell_type": "code",
   "execution_count": 379,
   "metadata": {},
   "outputs": [],
   "source": [
    "X = data_new[['no_of_comments', 'follower_count_at_t', 'image_path', 'comments_to_followers_ratio', 'year', 'month', 'day','weekday', 'hour']]\n",
    "y = data_new['class']\n",
    "X_train, X_test, y_train, y_test = train_test_split(X, y, test_size=0.2, random_state=22)"
   ]
  },
  {
   "cell_type": "code",
   "execution_count": 380,
   "metadata": {},
   "outputs": [
    {
     "name": "stdout",
     "output_type": "stream",
     "text": [
      "Training data has 2924 observation with 9 features\n",
      "Test data has 732 observation with 9 features\n"
     ]
    }
   ],
   "source": [
    "print('Training data has ' + str(X_train.shape[0]) + ' observation with ' + str(X_train.shape[1]) + ' features')\n",
    "print('Test data has ' + str(X_test.shape[0]) + ' observation with ' + str(X_test.shape[1]) + ' features')"
   ]
  },
  {
   "cell_type": "code",
   "execution_count": 381,
   "metadata": {},
   "outputs": [
    {
     "data": {
      "text/html": [
       "<div>\n",
       "<style scoped>\n",
       "    .dataframe tbody tr th:only-of-type {\n",
       "        vertical-align: middle;\n",
       "    }\n",
       "\n",
       "    .dataframe tbody tr th {\n",
       "        vertical-align: top;\n",
       "    }\n",
       "\n",
       "    .dataframe thead th {\n",
       "        text-align: right;\n",
       "    }\n",
       "</style>\n",
       "<table border=\"1\" class=\"dataframe\">\n",
       "  <thead>\n",
       "    <tr style=\"text-align: right;\">\n",
       "      <th></th>\n",
       "      <th>no_of_comments</th>\n",
       "      <th>follower_count_at_t</th>\n",
       "      <th>image_path</th>\n",
       "      <th>comments_to_followers_ratio</th>\n",
       "      <th>year</th>\n",
       "      <th>month</th>\n",
       "      <th>day</th>\n",
       "      <th>weekday</th>\n",
       "      <th>hour</th>\n",
       "    </tr>\n",
       "  </thead>\n",
       "  <tbody>\n",
       "    <tr>\n",
       "      <th>1734</th>\n",
       "      <td>132</td>\n",
       "      <td>11920047</td>\n",
       "      <td>../Data/insta_data/3876.jpg</td>\n",
       "      <td>0.000011</td>\n",
       "      <td>2020</td>\n",
       "      <td>7</td>\n",
       "      <td>2</td>\n",
       "      <td>3</td>\n",
       "      <td>15</td>\n",
       "    </tr>\n",
       "    <tr>\n",
       "      <th>1463</th>\n",
       "      <td>125</td>\n",
       "      <td>14818369</td>\n",
       "      <td>../Data/insta_data/3265.jpg</td>\n",
       "      <td>0.000008</td>\n",
       "      <td>2019</td>\n",
       "      <td>12</td>\n",
       "      <td>30</td>\n",
       "      <td>0</td>\n",
       "      <td>9</td>\n",
       "    </tr>\n",
       "    <tr>\n",
       "      <th>990</th>\n",
       "      <td>39</td>\n",
       "      <td>17607651</td>\n",
       "      <td>../Data/insta_data/2322.jpg</td>\n",
       "      <td>0.000002</td>\n",
       "      <td>2019</td>\n",
       "      <td>9</td>\n",
       "      <td>3</td>\n",
       "      <td>1</td>\n",
       "      <td>9</td>\n",
       "    </tr>\n",
       "    <tr>\n",
       "      <th>118</th>\n",
       "      <td>1407</td>\n",
       "      <td>35860886</td>\n",
       "      <td>../Data/insta_data/377.jpg</td>\n",
       "      <td>0.000039</td>\n",
       "      <td>2020</td>\n",
       "      <td>4</td>\n",
       "      <td>21</td>\n",
       "      <td>1</td>\n",
       "      <td>10</td>\n",
       "    </tr>\n",
       "    <tr>\n",
       "      <th>3244</th>\n",
       "      <td>116</td>\n",
       "      <td>5822618</td>\n",
       "      <td>../Data/insta_data/7754.jpg</td>\n",
       "      <td>0.000020</td>\n",
       "      <td>2020</td>\n",
       "      <td>4</td>\n",
       "      <td>5</td>\n",
       "      <td>6</td>\n",
       "      <td>4</td>\n",
       "    </tr>\n",
       "  </tbody>\n",
       "</table>\n",
       "</div>"
      ],
      "text/plain": [
       "      no_of_comments  follower_count_at_t                   image_path  \\\n",
       "1734             132             11920047  ../Data/insta_data/3876.jpg   \n",
       "1463             125             14818369  ../Data/insta_data/3265.jpg   \n",
       "990               39             17607651  ../Data/insta_data/2322.jpg   \n",
       "118             1407             35860886   ../Data/insta_data/377.jpg   \n",
       "3244             116              5822618  ../Data/insta_data/7754.jpg   \n",
       "\n",
       "      comments_to_followers_ratio  year  month  day  weekday  hour  \n",
       "1734                     0.000011  2020      7    2        3    15  \n",
       "1463                     0.000008  2019     12   30        0     9  \n",
       "990                      0.000002  2019      9    3        1     9  \n",
       "118                      0.000039  2020      4   21        1    10  \n",
       "3244                     0.000020  2020      4    5        6     4  "
      ]
     },
     "execution_count": 381,
     "metadata": {},
     "output_type": "execute_result"
    }
   ],
   "source": [
    "X_train.head()"
   ]
  },
  {
   "cell_type": "markdown",
   "metadata": {},
   "source": [
    "### 3.2 Feature scaling"
   ]
  },
  {
   "cell_type": "code",
   "execution_count": 382,
   "metadata": {},
   "outputs": [],
   "source": [
    "scaler = MinMaxScaler()\n",
    "scaler.fit(X_train[['no_of_comments', 'follower_count_at_t', 'comments_to_followers_ratio', 'year', 'month', 'day','weekday', 'hour']])\n",
    "X_train_scaled = scaler.transform(X_train[['no_of_comments', 'follower_count_at_t', 'comments_to_followers_ratio', 'year', 'month', 'day','weekday', 'hour']])\n",
    "X_test_scaled = scaler.transform(X_test[['no_of_comments', 'follower_count_at_t', 'comments_to_followers_ratio', 'year', 'month', 'day','weekday', 'hour']])"
   ]
  },
  {
   "cell_type": "code",
   "execution_count": 383,
   "metadata": {},
   "outputs": [
    {
     "data": {
      "text/plain": [
       "array([[1.86741363e-03, 3.15929964e-01, 8.58539471e-07, ...,\n",
       "        3.33333333e-02, 5.00000000e-01, 6.52173913e-01],\n",
       "       [1.76838412e-03, 3.92748548e-01, 6.53994221e-07, ...,\n",
       "        9.66666667e-01, 0.00000000e+00, 3.91304348e-01],\n",
       "       [5.51735846e-04, 4.66677081e-01, 1.71722613e-07, ...,\n",
       "        6.66666667e-02, 1.66666667e-01, 3.91304348e-01],\n",
       "       ...,\n",
       "       [7.96480208e-03, 5.76082183e-01, 2.00818714e-06, ...,\n",
       "        4.66666667e-01, 0.00000000e+00, 5.65217391e-01],\n",
       "       [1.25908949e-03, 2.19986871e-01, 8.31318465e-07, ...,\n",
       "        8.33333333e-01, 1.00000000e+00, 5.21739130e-01],\n",
       "       [4.48603684e-02, 1.32337116e-01, 4.92359451e-05, ...,\n",
       "        4.00000000e-01, 8.33333333e-01, 5.21739130e-01]])"
      ]
     },
     "execution_count": 383,
     "metadata": {},
     "output_type": "execute_result"
    }
   ],
   "source": [
    "X_train_scaled "
   ]
  },
  {
   "cell_type": "markdown",
   "metadata": {},
   "source": [
    "### 3.3 Models training "
   ]
  },
  {
   "cell_type": "code",
   "execution_count": 384,
   "metadata": {},
   "outputs": [
    {
     "name": "stdout",
     "output_type": "stream",
     "text": [
      "Accuracy for random forest: 0.7759562841530054\n"
     ]
    }
   ],
   "source": [
    "model_rf = RandomForestClassifier(random_state=22)\n",
    "model_rf.fit(X_train[['no_of_comments', 'follower_count_at_t', 'comments_to_followers_ratio', 'year', 'month', 'day','weekday', 'hour']], y_train)\n",
    "y_pred_rf = model_rf.predict(X_test[['no_of_comments', 'follower_count_at_t', 'comments_to_followers_ratio', 'year', 'month', 'day','weekday', 'hour']])\n",
    "# Evaluate accuracy\n",
    "accuracy_rf = accuracy_score(y_test, y_pred_rf)\n",
    "print(f\"Accuracy for random forest: {accuracy_rf}\")"
   ]
  },
  {
   "cell_type": "code",
   "execution_count": 385,
   "metadata": {},
   "outputs": [
    {
     "name": "stdout",
     "output_type": "stream",
     "text": [
      "Accuracy for knn: 0.8032786885245902\n"
     ]
    }
   ],
   "source": [
    "model_knn = KNeighborsClassifier(n_neighbors=5)\n",
    "model_knn.fit(X_train[['no_of_comments', 'follower_count_at_t', 'comments_to_followers_ratio', 'year', 'month', 'day','weekday', 'hour']], y_train)\n",
    "y_pred_knn = model_knn.predict(X_test[['no_of_comments', 'follower_count_at_t', 'comments_to_followers_ratio', 'year', 'month', 'day','weekday', 'hour']])\n",
    "accuracy_knn = accuracy_score(y_test, y_pred_knn)\n",
    "print(f\"Accuracy for knn: {accuracy_knn}\")"
   ]
  },
  {
   "cell_type": "code",
   "execution_count": 386,
   "metadata": {},
   "outputs": [
    {
     "name": "stdout",
     "output_type": "stream",
     "text": [
      "Accuracy for knn using scaled data: 0.4344262295081967\n"
     ]
    }
   ],
   "source": [
    "# using scaled data for training knn\n",
    "model_knn_2 = KNeighborsClassifier(n_neighbors=5)\n",
    "model_knn_2.fit(X_train_scaled, y_train)\n",
    "y_pred_knn_2 = model_knn_2.predict(X_test_scaled)\n",
    "accuracy_knn_2 = accuracy_score(y_test, y_pred_knn_2)\n",
    "print(f\"Accuracy for knn using scaled data: {accuracy_knn_2}\")"
   ]
  },
  {
   "cell_type": "code",
   "execution_count": 387,
   "metadata": {},
   "outputs": [
    {
     "name": "stdout",
     "output_type": "stream",
     "text": [
      "Accuracy for gradient boosting: 0.7663934426229508\n"
     ]
    }
   ],
   "source": [
    "gbm_classifier = GradientBoostingClassifier(n_estimators=100, learning_rate=0.1, max_depth=3, random_state=22)\n",
    "gbm_classifier.fit(X_train[['no_of_comments', 'follower_count_at_t', 'comments_to_followers_ratio', 'year', 'month', 'day','weekday', 'hour']], y_train)\n",
    "y_pred_gbm = gbm_classifier.predict(X_test[['no_of_comments', 'follower_count_at_t', 'comments_to_followers_ratio', 'year', 'month', 'day','weekday', 'hour']])\n",
    "accuracy_gbm = accuracy_score(y_test, y_pred_gbm)\n",
    "print(f\"Accuracy for gradient boosting: {accuracy_gbm}\")"
   ]
  },
  {
   "cell_type": "markdown",
   "metadata": {},
   "source": [
    "As can be seen from the above result, training simple models using just metadata without pitures can get pretty good accuracy score, and using scaled data actually worsens the accuracy score. \n",
    "\n",
    "In the next section check the features importance of random forest."
   ]
  },
  {
   "cell_type": "markdown",
   "metadata": {},
   "source": [
    "### 3.4 Check features importance"
   ]
  },
  {
   "cell_type": "code",
   "execution_count": 388,
   "metadata": {},
   "outputs": [
    {
     "data": {
      "image/png": "[encoded data removed]",
      "text/plain": [
       "<Figure size 1500x600 with 1 Axes>"
      ]
     },
     "metadata": {},
     "output_type": "display_data"
    }
   ],
   "source": [
    "importances = model_rf.feature_importances_\n",
    "\n",
    "indices = np.argsort(importances)[::-1]\n",
    "plt.figure(figsize=(15, 6))\n",
    "plt.title(\"Feature Importances of Random Forest Regressor\")\n",
    "plt.bar(range(X_train.shape[1] - 1), importances[indices], color=\"r\", alpha=0.7, align='center')\n",
    "plt.xticks(range(X_train.shape[1] - 1), ['no_of_comments', 'follower_count_at_t', 'comments_to_followers_ratio', 'year', 'month', 'day','weekday', 'hour'], rotation=30)\n",
    "plt.xlim([-1, X_train.shape[1] - 1])\n",
    "plt.grid(True)\n",
    "plt.show()"
   ]
  },
  {
   "cell_type": "markdown",
   "metadata": {},
   "source": [
    "Judging from the feature importances computed by the random forest model, the release time of the posts does not provide much useful information in predicting the response. The most important features are `no_of_comments` and `follower_count_at_t`. "
   ]
  },
  {
   "cell_type": "markdown",
   "metadata": {},
   "source": [
    "### 3.5 Retrain simple model using just a fraction of features"
   ]
  },
  {
   "cell_type": "code",
   "execution_count": 389,
   "metadata": {},
   "outputs": [],
   "source": [
    "def print_grid_search_metrics(gs):\n",
    "    print (\"Best score: \" + str(gs.best_score_))\n",
    "    print (\"Best parameters set:\")\n",
    "    best_parameters = gs.best_params_\n",
    "    for param_name in sorted(best_parameters.keys()):\n",
    "        print(param_name + ':' + str(best_parameters[param_name]))"
   ]
  },
  {
   "cell_type": "code",
   "execution_count": 390,
   "metadata": {},
   "outputs": [
    {
     "name": "stdout",
     "output_type": "stream",
     "text": [
      "Best score: 0.7910484720758694\n",
      "Best parameters set:\n",
      "n_neighbors:5\n"
     ]
    }
   ],
   "source": [
    "parameters = {\n",
    "    'n_neighbors':[1,3,5,7,9]\n",
    "}\n",
    "Grid_KNN = GridSearchCV(KNeighborsClassifier() , parameters, cv=5)\n",
    "Grid_KNN.fit(X_train[['no_of_comments', 'follower_count_at_t']], y_train)\n",
    "print_grid_search_metrics(Grid_KNN)"
   ]
  },
  {
   "cell_type": "code",
   "execution_count": 391,
   "metadata": {},
   "outputs": [
    {
     "name": "stdout",
     "output_type": "stream",
     "text": [
      "Accuracy for random forest using just a fraction of features: 0.744535519125683\n"
     ]
    }
   ],
   "source": [
    "model_rf_21 = RandomForestClassifier(random_state=22)\n",
    "model_rf_21.fit(X_train[['no_of_comments', 'follower_count_at_t', 'comments_to_followers_ratio']], y_train)\n",
    "y_pred_rf_21 = model_rf_21.predict(X_test[['no_of_comments', 'follower_count_at_t', 'comments_to_followers_ratio']])\n",
    "# Evaluate accuracy\n",
    "accuracy_rf_21 = accuracy_score(y_test, y_pred_rf_21)\n",
    "print(f\"Accuracy for random forest using just a fraction of features: {accuracy_rf_21}\")"
   ]
  },
  {
   "cell_type": "code",
   "execution_count": 392,
   "metadata": {},
   "outputs": [
    {
     "name": "stdout",
     "output_type": "stream",
     "text": [
      "Accuracy for random forest using just 2 features: 0.7663934426229508\n"
     ]
    }
   ],
   "source": [
    "model_rf_22 = RandomForestClassifier(random_state=22)\n",
    "model_rf_22.fit(X_train[['no_of_comments', 'follower_count_at_t']], y_train)\n",
    "y_pred_rf_22 = model_rf_22.predict(X_test[['no_of_comments', 'follower_count_at_t']])\n",
    "# Evaluate accuracy\n",
    "accuracy_rf_22 = accuracy_score(y_test, y_pred_rf_22)\n",
    "print(f\"Accuracy for random forest using just 2 features: {accuracy_rf_22}\")"
   ]
  },
  {
   "cell_type": "code",
   "execution_count": 393,
   "metadata": {},
   "outputs": [
    {
     "name": "stdout",
     "output_type": "stream",
     "text": [
      "Accuracy for knn using just a fraction of features: 0.8019125683060109\n"
     ]
    }
   ],
   "source": [
    "model_knn_21 = KNeighborsClassifier(n_neighbors=5)\n",
    "model_knn_21.fit(X_train[['no_of_comments', 'follower_count_at_t', 'comments_to_followers_ratio']], y_train)\n",
    "y_pred_knn_21 = model_knn_21.predict(X_test[['no_of_comments', 'follower_count_at_t', 'comments_to_followers_ratio']])\n",
    "accuracy_knn_21 = accuracy_score(y_test, y_pred_knn_21)\n",
    "print(f\"Accuracy for knn using just a fraction of features: {accuracy_knn_21}\")"
   ]
  },
  {
   "cell_type": "code",
   "execution_count": 291,
   "metadata": {},
   "outputs": [
    {
     "name": "stdout",
     "output_type": "stream",
     "text": [
      "Accuracy for knn using just 2 features: 0.8019125683060109\n"
     ]
    }
   ],
   "source": [
    "model_knn_22 = KNeighborsClassifier(n_neighbors=5)\n",
    "model_knn_22.fit(X_train[['no_of_comments', 'follower_count_at_t']], y_train)\n",
    "y_pred_knn_22 = model_knn_22.predict(X_test[['no_of_comments', 'follower_count_at_t']])\n",
    "accuracy_knn_22 = accuracy_score(y_test, y_pred_knn_22)\n",
    "print(f\"Accuracy for knn using just 2 features: {accuracy_knn_22}\")"
   ]
  },
  {
   "cell_type": "markdown",
   "metadata": {},
   "source": [
    "Whether using the engineered feature `comments_to_followers_ratio` does not make much of a difference in terms of predicting accuracy. The overall accuracy score using just metadata without pictures can achieve 80% on test set. "
   ]
  },
  {
   "cell_type": "markdown",
   "metadata": {},
   "source": [
    "## Part 4: Model Training using Transfer Learning method"
   ]
  },
  {
   "cell_type": "markdown",
   "metadata": {},
   "source": [
    "### 4.1 Training only pictures "
   ]
  },
  {
   "cell_type": "markdown",
   "metadata": {},
   "source": [
    "#### 4.1.1 Data ETL Pipeline building"
   ]
  },
  {
   "cell_type": "code",
   "execution_count": 292,
   "metadata": {},
   "outputs": [],
   "source": [
    "transform = transforms.Compose([transforms.Resize((256, 256)),\n",
    "                                transforms.ToTensor()])"
   ]
  },
  {
   "cell_type": "code",
   "execution_count": 293,
   "metadata": {},
   "outputs": [],
   "source": [
    "train_image_paths = X_train['image_path'].tolist()\n",
    "test_image_paths = X_test['image_path'].tolist()"
   ]
  },
  {
   "cell_type": "code",
   "execution_count": 294,
   "metadata": {},
   "outputs": [],
   "source": [
    "label_encoder = LabelEncoder()\n",
    "label_encoder.fit(y_train)\n",
    "encoded_labels_train = label_encoder.transform(y_train)\n",
    "encoded_labels_test = label_encoder.transform(y_test)\n",
    "idx_to_class_train = {i:j for i, j in enumerate(encoded_labels_train)}\n",
    "idx_to_class_test = {i:j for i, j in enumerate(encoded_labels_test)}"
   ]
  },
  {
   "cell_type": "code",
   "execution_count": 295,
   "metadata": {},
   "outputs": [
    {
     "name": "stdout",
     "output_type": "stream",
     "text": [
      "Label to Encoded: {'high': 0, 'low': 1, 'medium': 2}\n"
     ]
    }
   ],
   "source": [
    "original_labels = label_encoder.classes_\n",
    "label_to_encoded = {label: index for index, label in enumerate(original_labels)}\n",
    "print(\"Label to Encoded:\", label_to_encoded)"
   ]
  },
  {
   "cell_type": "code",
   "execution_count": 296,
   "metadata": {},
   "outputs": [],
   "source": [
    "# Define dataset class\n",
    "class Insta_Dataset(Dataset):\n",
    "    def __init__(self, image_paths, idx_to_class, transform=False):\n",
    "        self.image_paths = image_paths\n",
    "        self.transform = transform\n",
    "        self.idx_to_class = idx_to_class\n",
    "        \n",
    "    def __len__(self):\n",
    "        return len(self.image_paths)\n",
    "\n",
    "    def __getitem__(self, idx):\n",
    "        image_filepath = self.image_paths[idx]\n",
    "        image = Image.open(image_filepath)\n",
    "        label = self.idx_to_class[idx]\n",
    "        if self.transform is not None:\n",
    "            image = self.transform(image)\n",
    "        \n",
    "        return image, label\n",
    "    "
   ]
  },
  {
   "cell_type": "code",
   "execution_count": 297,
   "metadata": {},
   "outputs": [],
   "source": [
    "train_dataset = Insta_Dataset(train_image_paths, idx_to_class_train, transform)\n",
    "test_dataset = Insta_Dataset(test_image_paths, idx_to_class_test, transform) "
   ]
  },
  {
   "cell_type": "code",
   "execution_count": 298,
   "metadata": {},
   "outputs": [],
   "source": [
    "trainloader = torch.utils.data.DataLoader(train_dataset, batch_size=8, shuffle=True)\n",
    "testloader = torch.utils.data.DataLoader(test_dataset, batch_size=8, shuffle=False)"
   ]
  },
  {
   "cell_type": "markdown",
   "metadata": {},
   "source": [
    "#### 4.1.2 Model Traininig"
   ]
  },
  {
   "cell_type": "code",
   "execution_count": 299,
   "metadata": {},
   "outputs": [
    {
     "name": "stdout",
     "output_type": "stream",
     "text": [
      "True\n",
      "True\n"
     ]
    }
   ],
   "source": [
    "print(torch.backends.mps.is_available())\n",
    "print(torch.backends.mps.is_built())\n",
    "device = torch.device(\"mps\")"
   ]
  },
  {
   "cell_type": "code",
   "execution_count": 300,
   "metadata": {},
   "outputs": [],
   "source": [
    "def train_model(model, criterion, optimizer, scheduler, n_epochs=10):\n",
    "\n",
    "    losses = []\n",
    "    accuracies = []\n",
    "    test_accuracies = []\n",
    "\n",
    "    model.train()\n",
    "    for epoch in tqdm(range(n_epochs)):\n",
    "        since = time.time()\n",
    "        running_loss = 0.0\n",
    "        running_correct = 0.0\n",
    "        for i, data in enumerate(trainloader, 0):\n",
    "            inputs, labels = data\n",
    "            inputs = inputs.to(device)\n",
    "            labels = labels.to(device)\n",
    "            optimizer.zero_grad()\n",
    "            \n",
    "            outputs = model(inputs)\n",
    "            _, predicted = torch.max(outputs.data, 1)\n",
    "            \n",
    "            loss = criterion(outputs, labels)\n",
    "            loss.backward()\n",
    "            optimizer.step()\n",
    "\n",
    "            running_loss += loss.item() \n",
    "            running_correct += (labels==predicted).sum().item()\n",
    "\n",
    "        epoch_duration = time.time() - since\n",
    "        epoch_loss = running_loss / len(trainloader)\n",
    "        epoch_acc = 100 / 8 * running_correct / len(trainloader) #(100 * correct) / (8 * len(trainloader))\n",
    "        print(\"Epoch %s, duration: %d s, loss: %.4f, acc: %.4f\" % (epoch+1, epoch_duration, epoch_loss, epoch_acc))\n",
    "        \n",
    "        losses.append(epoch_loss)\n",
    "        accuracies.append(epoch_acc)\n",
    "        \n",
    "        # switch the model to eval mode to evaluate on test data\n",
    "        model.eval()\n",
    "        test_acc = eval_model(model)\n",
    "        test_accuracies.append(test_acc)\n",
    "        \n",
    "        # re-set the model to train mode after validating\n",
    "        model.train()\n",
    "        scheduler.step(test_acc)\n",
    "        since = time.time()\n",
    "    print('Finished Training')\n",
    "    return model, losses, accuracies, test_accuracies"
   ]
  },
  {
   "cell_type": "code",
   "execution_count": 301,
   "metadata": {},
   "outputs": [],
   "source": [
    "# This function is called out after each epoch of training on the training data to measure the accuracy of the model\n",
    "def eval_model(model):\n",
    "    correct = 0.0\n",
    "    total = 0.0\n",
    "    with torch.no_grad():\n",
    "        for i, data in enumerate(testloader, 0):\n",
    "            images, labels = data\n",
    "            images = images.to(device)\n",
    "            labels = labels.to(device)\n",
    "\n",
    "            outputs = model(images)\n",
    "            _, predicted = torch.max(outputs.data, 1)\n",
    "\n",
    "            total += labels.size(0)\n",
    "            correct += (predicted == labels).sum().item()\n",
    "\n",
    "    test_acc = 100.0 * correct / total\n",
    "    print('Accuracy of the network on the test images: %d %%' % (test_acc))\n",
    "    return test_acc"
   ]
  },
  {
   "cell_type": "code",
   "execution_count": 302,
   "metadata": {},
   "outputs": [
    {
     "name": "stderr",
     "output_type": "stream",
     "text": [
      "/Users/wangyufei/Library/Python/3.9/lib/python/site-packages/torchvision/models/_utils.py:208: UserWarning: The parameter 'pretrained' is deprecated since 0.13 and may be removed in the future, please use 'weights' instead.\n",
      "  warnings.warn(\n",
      "/Users/wangyufei/Library/Python/3.9/lib/python/site-packages/torchvision/models/_utils.py:223: UserWarning: Arguments other than a weight enum or `None` for 'weights' are deprecated since 0.13 and may be removed in the future. The current behavior is equivalent to passing `weights=ResNet34_Weights.IMAGENET1K_V1`. You can also use `weights=ResNet34_Weights.DEFAULT` to get the most up-to-date weights.\n",
      "  warnings.warn(msg)\n"
     ]
    }
   ],
   "source": [
    "NUM_CLASSES = 3\n",
    "model_ft = models.resnet34(pretrained=True)  \n",
    "num_ftrs = model_ft.fc.in_features\n",
    "model_ft.fc = nn.Linear(num_ftrs, NUM_CLASSES)\n",
    "model_ft = model_ft.to(device)\n",
    "\n",
    "criterion = nn.CrossEntropyLoss()\n",
    "optimizer = optim.SGD(model_ft.parameters(), lr=0.01, momentum=0.9)\n",
    "lrscheduler = optim.lr_scheduler.ReduceLROnPlateau(optimizer, mode='max', patience=3, threshold = 0.9)"
   ]
  },
  {
   "cell_type": "code",
   "execution_count": 303,
   "metadata": {},
   "outputs": [
    {
     "name": "stderr",
     "output_type": "stream",
     "text": [
      "  0%|          | 0/10 [00:00<?, ?it/s]"
     ]
    },
    {
     "name": "stdout",
     "output_type": "stream",
     "text": [
      "Epoch 1, duration: 89 s, loss: 1.5337, acc: 36.1680\n"
     ]
    },
    {
     "name": "stderr",
     "output_type": "stream",
     "text": [
      " 10%|█         | 1/10 [01:45<15:49, 105.55s/it]"
     ]
    },
    {
     "name": "stdout",
     "output_type": "stream",
     "text": [
      "Accuracy of the network on the test images: 39 %\n",
      "Epoch 2, duration: 87 s, loss: 1.1925, acc: 34.5287\n"
     ]
    },
    {
     "name": "stderr",
     "output_type": "stream",
     "text": [
      " 20%|██        | 2/10 [03:28<13:53, 104.18s/it]"
     ]
    },
    {
     "name": "stdout",
     "output_type": "stream",
     "text": [
      "Accuracy of the network on the test images: 34 %\n",
      "Epoch 3, duration: 87 s, loss: 1.1040, acc: 37.7049\n"
     ]
    },
    {
     "name": "stderr",
     "output_type": "stream",
     "text": [
      " 30%|███       | 3/10 [05:12<12:06, 103.78s/it]"
     ]
    },
    {
     "name": "stdout",
     "output_type": "stream",
     "text": [
      "Accuracy of the network on the test images: 40 %\n",
      "Epoch 4, duration: 87 s, loss: 1.0968, acc: 37.3634\n"
     ]
    },
    {
     "name": "stderr",
     "output_type": "stream",
     "text": [
      " 40%|████      | 4/10 [06:55<10:21, 103.58s/it]"
     ]
    },
    {
     "name": "stdout",
     "output_type": "stream",
     "text": [
      "Accuracy of the network on the test images: 37 %\n",
      "Epoch 5, duration: 86 s, loss: 1.0951, acc: 39.1735\n"
     ]
    },
    {
     "name": "stderr",
     "output_type": "stream",
     "text": [
      " 50%|█████     | 5/10 [08:38<08:37, 103.43s/it]"
     ]
    },
    {
     "name": "stdout",
     "output_type": "stream",
     "text": [
      "Accuracy of the network on the test images: 36 %\n",
      "Epoch 6, duration: 87 s, loss: 1.0766, acc: 38.3538\n"
     ]
    },
    {
     "name": "stderr",
     "output_type": "stream",
     "text": [
      " 60%|██████    | 6/10 [10:21<06:53, 103.37s/it]"
     ]
    },
    {
     "name": "stdout",
     "output_type": "stream",
     "text": [
      "Accuracy of the network on the test images: 39 %\n",
      "Epoch 7, duration: 87 s, loss: 1.0726, acc: 39.9590\n"
     ]
    },
    {
     "name": "stderr",
     "output_type": "stream",
     "text": [
      " 70%|███████   | 7/10 [12:05<05:10, 103.37s/it]"
     ]
    },
    {
     "name": "stdout",
     "output_type": "stream",
     "text": [
      "Accuracy of the network on the test images: 39 %\n",
      "Epoch 8, duration: 87 s, loss: 1.0700, acc: 39.7541\n"
     ]
    },
    {
     "name": "stderr",
     "output_type": "stream",
     "text": [
      " 80%|████████  | 8/10 [13:48<03:27, 103.50s/it]"
     ]
    },
    {
     "name": "stdout",
     "output_type": "stream",
     "text": [
      "Accuracy of the network on the test images: 36 %\n",
      "Epoch 9, duration: 87 s, loss: 1.0749, acc: 40.3005\n"
     ]
    },
    {
     "name": "stderr",
     "output_type": "stream",
     "text": [
      " 90%|█████████ | 9/10 [15:32<01:43, 103.53s/it]"
     ]
    },
    {
     "name": "stdout",
     "output_type": "stream",
     "text": [
      "Accuracy of the network on the test images: 38 %\n",
      "Epoch 10, duration: 86 s, loss: 1.0693, acc: 41.0178\n"
     ]
    },
    {
     "name": "stderr",
     "output_type": "stream",
     "text": [
      "100%|██████████| 10/10 [17:15<00:00, 103.55s/it]"
     ]
    },
    {
     "name": "stdout",
     "output_type": "stream",
     "text": [
      "Accuracy of the network on the test images: 38 %\n",
      "Finished Training\n"
     ]
    },
    {
     "name": "stderr",
     "output_type": "stream",
     "text": [
      "\n"
     ]
    }
   ],
   "source": [
    "model_ft, training_losses, training_accs, test_accs = train_model(model_ft, criterion, optimizer, lrscheduler, n_epochs=10)"
   ]
  },
  {
   "cell_type": "markdown",
   "metadata": {},
   "source": [
    "### 4.2 Training with all data"
   ]
  },
  {
   "cell_type": "markdown",
   "metadata": {},
   "source": [
    "#### 4.2.1 Data ETL Pipeline building"
   ]
  },
  {
   "cell_type": "code",
   "execution_count": 306,
   "metadata": {},
   "outputs": [],
   "source": [
    "class Overall_Dataset(Dataset):\n",
    "    def __init__(self, data, image_paths, idx_to_class, transform=False):\n",
    "        self.data = torch.tensor(data.values.astype(np.float32))\n",
    "        self.image_paths = image_paths\n",
    "        self.transform = transform\n",
    "        self.idx_to_class = idx_to_class\n",
    "        \n",
    "    def __len__(self):\n",
    "        return len(self.image_paths)\n",
    "\n",
    "    def __getitem__(self, idx):\n",
    "        num = self.data[idx]\n",
    "        image_filepath = self.image_paths[idx]\n",
    "        image = Image.open(image_filepath)\n",
    "        label = self.idx_to_class[idx]\n",
    "        if self.transform is not None:\n",
    "            image = self.transform(image)\n",
    "        \n",
    "        return num, image, label\n",
    "    "
   ]
  },
  {
   "cell_type": "code",
   "execution_count": 307,
   "metadata": {},
   "outputs": [],
   "source": [
    "train_dataset = Overall_Dataset(X_train[['no_of_comments', 'follower_count_at_t']], train_image_paths, idx_to_class_train, transform)\n",
    "test_dataset = Overall_Dataset(X_test[['no_of_comments', 'follower_count_at_t']], test_image_paths, idx_to_class_test, transform) "
   ]
  },
  {
   "cell_type": "code",
   "execution_count": 308,
   "metadata": {},
   "outputs": [],
   "source": [
    "trainloader = torch.utils.data.DataLoader(train_dataset, batch_size=8, shuffle=True)\n",
    "testloader = torch.utils.data.DataLoader(test_dataset, batch_size=8, shuffle=False)"
   ]
  },
  {
   "cell_type": "markdown",
   "metadata": {},
   "source": [
    "#### 4.2.2 Model building"
   ]
  },
  {
   "cell_type": "code",
   "execution_count": 309,
   "metadata": {},
   "outputs": [],
   "source": [
    "class Dnn(nn.Module):\n",
    "    \n",
    "    def __init__(self, hidden_units, dropout_rate=0., use_bn = False):\n",
    "\n",
    "        super(Dnn, self).__init__()\n",
    "        self.model_ft = models.resnet34(pretrained=True) \n",
    "        self.model_ft.fc = nn.Linear(model_ft.fc.in_features, 3)\n",
    "        self.dnn_network = nn.ModuleList([nn.Linear(layer[0], layer[1]) for layer in list(zip(hidden_units[:-1], hidden_units[1:]))])\n",
    "        self.dropout = nn.Dropout(p = dropout_rate)\n",
    "        self.use_bn = use_bn\n",
    "        if use_bn:\n",
    "            self.bn = nn.ModuleList([nn.BatchNorm1d(hidden_units[i + 1]) for i in range(len(hidden_units) - 1)])\n",
    "        self.fc = nn.Linear(hidden_units[-1] + 3, 3)\n",
    "    \n",
    "    def forward(self, x, img):\n",
    "        for i, linear in enumerate(self.dnn_network):\n",
    "            x = linear(x)\n",
    "            if self.use_bn:\n",
    "                x = self.bn[i](x)\n",
    "            x = F.relu(x)\n",
    "            x = self.dropout(x)\n",
    "        xx = self.model_ft(img)\n",
    "        fc_input = torch.cat([x, xx], dim=-1) \n",
    "        output = self.fc(fc_input)\n",
    "\n",
    "        return output"
   ]
  },
  {
   "cell_type": "code",
   "execution_count": 310,
   "metadata": {},
   "outputs": [],
   "source": [
    "def train_model_2(model, criterion, optimizer, n_epochs=10):\n",
    "\n",
    "    losses = []\n",
    "    accuracies = []\n",
    "    test_accuracies = []\n",
    "\n",
    "    model.train()\n",
    "    for epoch in tqdm(range(n_epochs)):\n",
    "        since = time.time()\n",
    "        running_loss = 0.0\n",
    "        running_correct = 0.0\n",
    "        for i, data in enumerate(trainloader, 0):\n",
    "            num, img, labels = data\n",
    "            num = num.to(device)\n",
    "            img = img.to(device)\n",
    "            labels = labels.to(device)\n",
    "            optimizer.zero_grad()\n",
    "            \n",
    "            outputs = model(num, img)\n",
    "            _, predicted = torch.max(outputs.data, 1)\n",
    "            \n",
    "            loss = criterion(outputs, labels)\n",
    "            loss.backward()\n",
    "            optimizer.step()\n",
    "\n",
    "            running_loss += loss.item() \n",
    "            running_correct += (labels==predicted).sum().item()\n",
    "\n",
    "        epoch_duration = time.time() - since\n",
    "        epoch_loss = running_loss / len(trainloader)\n",
    "        epoch_acc = 100 / 8 * running_correct / len(trainloader) #(100 * correct) / (8 * len(trainloader))\n",
    "        print(\"Epoch %s, duration: %d s, loss: %.4f, acc: %.4f\" % (epoch+1, epoch_duration, epoch_loss, epoch_acc))\n",
    "        \n",
    "        losses.append(epoch_loss)\n",
    "        accuracies.append(epoch_acc)\n",
    "        \n",
    "        # switch the model to eval mode to evaluate on test data\n",
    "        model.eval()\n",
    "        test_acc = eval_model_2(model)\n",
    "        test_accuracies.append(test_acc)\n",
    "        \n",
    "        # re-set the model to train mode after validating\n",
    "        model.train()\n",
    "        since = time.time()\n",
    "    print('Finished Training')\n",
    "    return model, losses, accuracies, test_accuracies"
   ]
  },
  {
   "cell_type": "code",
   "execution_count": 311,
   "metadata": {},
   "outputs": [],
   "source": [
    "# This function is called out after each epoch of training on the training data to measure the accuracy of the model\n",
    "def eval_model_2(model):\n",
    "    correct = 0.0\n",
    "    total = 0.0\n",
    "    with torch.no_grad():\n",
    "        for i, data in enumerate(testloader, 0):\n",
    "            num, img, labels = data\n",
    "            num = num.to(device)\n",
    "            img = img.to(device)\n",
    "            labels = labels.to(device)\n",
    "            outputs = model(num, img)\n",
    "            _, predicted = torch.max(outputs.data, 1)\n",
    "\n",
    "            total += labels.size(0)\n",
    "            correct += (predicted == labels).sum().item()\n",
    "\n",
    "    test_acc = 100.0 * correct / total\n",
    "    print('Accuracy of the network on the test images: %d %%' % (test_acc))\n",
    "    return test_acc"
   ]
  },
  {
   "cell_type": "code",
   "execution_count": 312,
   "metadata": {},
   "outputs": [
    {
     "name": "stderr",
     "output_type": "stream",
     "text": [
      "/Users/wangyufei/Library/Python/3.9/lib/python/site-packages/torchvision/models/_utils.py:208: UserWarning: The parameter 'pretrained' is deprecated since 0.13 and may be removed in the future, please use 'weights' instead.\n",
      "  warnings.warn(\n",
      "/Users/wangyufei/Library/Python/3.9/lib/python/site-packages/torchvision/models/_utils.py:223: UserWarning: Arguments other than a weight enum or `None` for 'weights' are deprecated since 0.13 and may be removed in the future. The current behavior is equivalent to passing `weights=ResNet34_Weights.IMAGENET1K_V1`. You can also use `weights=ResNet34_Weights.DEFAULT` to get the most up-to-date weights.\n",
      "  warnings.warn(msg)\n"
     ]
    },
    {
     "data": {
      "text/plain": [
       "Dnn(\n",
       "  (model_ft): ResNet(\n",
       "    (conv1): Conv2d(3, 64, kernel_size=(7, 7), stride=(2, 2), padding=(3, 3), bias=False)\n",
       "    (bn1): BatchNorm2d(64, eps=1e-05, momentum=0.1, affine=True, track_running_stats=True)\n",
       "    (relu): ReLU(inplace=True)\n",
       "    (maxpool): MaxPool2d(kernel_size=3, stride=2, padding=1, dilation=1, ceil_mode=False)\n",
       "    (layer1): Sequential(\n",
       "      (0): BasicBlock(\n",
       "        (conv1): Conv2d(64, 64, kernel_size=(3, 3), stride=(1, 1), padding=(1, 1), bias=False)\n",
       "        (bn1): BatchNorm2d(64, eps=1e-05, momentum=0.1, affine=True, track_running_stats=True)\n",
       "        (relu): ReLU(inplace=True)\n",
       "        (conv2): Conv2d(64, 64, kernel_size=(3, 3), stride=(1, 1), padding=(1, 1), bias=False)\n",
       "        (bn2): BatchNorm2d(64, eps=1e-05, momentum=0.1, affine=True, track_running_stats=True)\n",
       "      )\n",
       "      (1): BasicBlock(\n",
       "        (conv1): Conv2d(64, 64, kernel_size=(3, 3), stride=(1, 1), padding=(1, 1), bias=False)\n",
       "        (bn1): BatchNorm2d(64, eps=1e-05, momentum=0.1, affine=True, track_running_stats=True)\n",
       "        (relu): ReLU(inplace=True)\n",
       "        (conv2): Conv2d(64, 64, kernel_size=(3, 3), stride=(1, 1), padding=(1, 1), bias=False)\n",
       "        (bn2): BatchNorm2d(64, eps=1e-05, momentum=0.1, affine=True, track_running_stats=True)\n",
       "      )\n",
       "      (2): BasicBlock(\n",
       "        (conv1): Conv2d(64, 64, kernel_size=(3, 3), stride=(1, 1), padding=(1, 1), bias=False)\n",
       "        (bn1): BatchNorm2d(64, eps=1e-05, momentum=0.1, affine=True, track_running_stats=True)\n",
       "        (relu): ReLU(inplace=True)\n",
       "        (conv2): Conv2d(64, 64, kernel_size=(3, 3), stride=(1, 1), padding=(1, 1), bias=False)\n",
       "        (bn2): BatchNorm2d(64, eps=1e-05, momentum=0.1, affine=True, track_running_stats=True)\n",
       "      )\n",
       "    )\n",
       "    (layer2): Sequential(\n",
       "      (0): BasicBlock(\n",
       "        (conv1): Conv2d(64, 128, kernel_size=(3, 3), stride=(2, 2), padding=(1, 1), bias=False)\n",
       "        (bn1): BatchNorm2d(128, eps=1e-05, momentum=0.1, affine=True, track_running_stats=True)\n",
       "        (relu): ReLU(inplace=True)\n",
       "        (conv2): Conv2d(128, 128, kernel_size=(3, 3), stride=(1, 1), padding=(1, 1), bias=False)\n",
       "        (bn2): BatchNorm2d(128, eps=1e-05, momentum=0.1, affine=True, track_running_stats=True)\n",
       "        (downsample): Sequential(\n",
       "          (0): Conv2d(64, 128, kernel_size=(1, 1), stride=(2, 2), bias=False)\n",
       "          (1): BatchNorm2d(128, eps=1e-05, momentum=0.1, affine=True, track_running_stats=True)\n",
       "        )\n",
       "      )\n",
       "      (1): BasicBlock(\n",
       "        (conv1): Conv2d(128, 128, kernel_size=(3, 3), stride=(1, 1), padding=(1, 1), bias=False)\n",
       "        (bn1): BatchNorm2d(128, eps=1e-05, momentum=0.1, affine=True, track_running_stats=True)\n",
       "        (relu): ReLU(inplace=True)\n",
       "        (conv2): Conv2d(128, 128, kernel_size=(3, 3), stride=(1, 1), padding=(1, 1), bias=False)\n",
       "        (bn2): BatchNorm2d(128, eps=1e-05, momentum=0.1, affine=True, track_running_stats=True)\n",
       "      )\n",
       "      (2): BasicBlock(\n",
       "        (conv1): Conv2d(128, 128, kernel_size=(3, 3), stride=(1, 1), padding=(1, 1), bias=False)\n",
       "        (bn1): BatchNorm2d(128, eps=1e-05, momentum=0.1, affine=True, track_running_stats=True)\n",
       "        (relu): ReLU(inplace=True)\n",
       "        (conv2): Conv2d(128, 128, kernel_size=(3, 3), stride=(1, 1), padding=(1, 1), bias=False)\n",
       "        (bn2): BatchNorm2d(128, eps=1e-05, momentum=0.1, affine=True, track_running_stats=True)\n",
       "      )\n",
       "      (3): BasicBlock(\n",
       "        (conv1): Conv2d(128, 128, kernel_size=(3, 3), stride=(1, 1), padding=(1, 1), bias=False)\n",
       "        (bn1): BatchNorm2d(128, eps=1e-05, momentum=0.1, affine=True, track_running_stats=True)\n",
       "        (relu): ReLU(inplace=True)\n",
       "        (conv2): Conv2d(128, 128, kernel_size=(3, 3), stride=(1, 1), padding=(1, 1), bias=False)\n",
       "        (bn2): BatchNorm2d(128, eps=1e-05, momentum=0.1, affine=True, track_running_stats=True)\n",
       "      )\n",
       "    )\n",
       "    (layer3): Sequential(\n",
       "      (0): BasicBlock(\n",
       "        (conv1): Conv2d(128, 256, kernel_size=(3, 3), stride=(2, 2), padding=(1, 1), bias=False)\n",
       "        (bn1): BatchNorm2d(256, eps=1e-05, momentum=0.1, affine=True, track_running_stats=True)\n",
       "        (relu): ReLU(inplace=True)\n",
       "        (conv2): Conv2d(256, 256, kernel_size=(3, 3), stride=(1, 1), padding=(1, 1), bias=False)\n",
       "        (bn2): BatchNorm2d(256, eps=1e-05, momentum=0.1, affine=True, track_running_stats=True)\n",
       "        (downsample): Sequential(\n",
       "          (0): Conv2d(128, 256, kernel_size=(1, 1), stride=(2, 2), bias=False)\n",
       "          (1): BatchNorm2d(256, eps=1e-05, momentum=0.1, affine=True, track_running_stats=True)\n",
       "        )\n",
       "      )\n",
       "      (1): BasicBlock(\n",
       "        (conv1): Conv2d(256, 256, kernel_size=(3, 3), stride=(1, 1), padding=(1, 1), bias=False)\n",
       "        (bn1): BatchNorm2d(256, eps=1e-05, momentum=0.1, affine=True, track_running_stats=True)\n",
       "        (relu): ReLU(inplace=True)\n",
       "        (conv2): Conv2d(256, 256, kernel_size=(3, 3), stride=(1, 1), padding=(1, 1), bias=False)\n",
       "        (bn2): BatchNorm2d(256, eps=1e-05, momentum=0.1, affine=True, track_running_stats=True)\n",
       "      )\n",
       "      (2): BasicBlock(\n",
       "        (conv1): Conv2d(256, 256, kernel_size=(3, 3), stride=(1, 1), padding=(1, 1), bias=False)\n",
       "        (bn1): BatchNorm2d(256, eps=1e-05, momentum=0.1, affine=True, track_running_stats=True)\n",
       "        (relu): ReLU(inplace=True)\n",
       "        (conv2): Conv2d(256, 256, kernel_size=(3, 3), stride=(1, 1), padding=(1, 1), bias=False)\n",
       "        (bn2): BatchNorm2d(256, eps=1e-05, momentum=0.1, affine=True, track_running_stats=True)\n",
       "      )\n",
       "      (3): BasicBlock(\n",
       "        (conv1): Conv2d(256, 256, kernel_size=(3, 3), stride=(1, 1), padding=(1, 1), bias=False)\n",
       "        (bn1): BatchNorm2d(256, eps=1e-05, momentum=0.1, affine=True, track_running_stats=True)\n",
       "        (relu): ReLU(inplace=True)\n",
       "        (conv2): Conv2d(256, 256, kernel_size=(3, 3), stride=(1, 1), padding=(1, 1), bias=False)\n",
       "        (bn2): BatchNorm2d(256, eps=1e-05, momentum=0.1, affine=True, track_running_stats=True)\n",
       "      )\n",
       "      (4): BasicBlock(\n",
       "        (conv1): Conv2d(256, 256, kernel_size=(3, 3), stride=(1, 1), padding=(1, 1), bias=False)\n",
       "        (bn1): BatchNorm2d(256, eps=1e-05, momentum=0.1, affine=True, track_running_stats=True)\n",
       "        (relu): ReLU(inplace=True)\n",
       "        (conv2): Conv2d(256, 256, kernel_size=(3, 3), stride=(1, 1), padding=(1, 1), bias=False)\n",
       "        (bn2): BatchNorm2d(256, eps=1e-05, momentum=0.1, affine=True, track_running_stats=True)\n",
       "      )\n",
       "      (5): BasicBlock(\n",
       "        (conv1): Conv2d(256, 256, kernel_size=(3, 3), stride=(1, 1), padding=(1, 1), bias=False)\n",
       "        (bn1): BatchNorm2d(256, eps=1e-05, momentum=0.1, affine=True, track_running_stats=True)\n",
       "        (relu): ReLU(inplace=True)\n",
       "        (conv2): Conv2d(256, 256, kernel_size=(3, 3), stride=(1, 1), padding=(1, 1), bias=False)\n",
       "        (bn2): BatchNorm2d(256, eps=1e-05, momentum=0.1, affine=True, track_running_stats=True)\n",
       "      )\n",
       "    )\n",
       "    (layer4): Sequential(\n",
       "      (0): BasicBlock(\n",
       "        (conv1): Conv2d(256, 512, kernel_size=(3, 3), stride=(2, 2), padding=(1, 1), bias=False)\n",
       "        (bn1): BatchNorm2d(512, eps=1e-05, momentum=0.1, affine=True, track_running_stats=True)\n",
       "        (relu): ReLU(inplace=True)\n",
       "        (conv2): Conv2d(512, 512, kernel_size=(3, 3), stride=(1, 1), padding=(1, 1), bias=False)\n",
       "        (bn2): BatchNorm2d(512, eps=1e-05, momentum=0.1, affine=True, track_running_stats=True)\n",
       "        (downsample): Sequential(\n",
       "          (0): Conv2d(256, 512, kernel_size=(1, 1), stride=(2, 2), bias=False)\n",
       "          (1): BatchNorm2d(512, eps=1e-05, momentum=0.1, affine=True, track_running_stats=True)\n",
       "        )\n",
       "      )\n",
       "      (1): BasicBlock(\n",
       "        (conv1): Conv2d(512, 512, kernel_size=(3, 3), stride=(1, 1), padding=(1, 1), bias=False)\n",
       "        (bn1): BatchNorm2d(512, eps=1e-05, momentum=0.1, affine=True, track_running_stats=True)\n",
       "        (relu): ReLU(inplace=True)\n",
       "        (conv2): Conv2d(512, 512, kernel_size=(3, 3), stride=(1, 1), padding=(1, 1), bias=False)\n",
       "        (bn2): BatchNorm2d(512, eps=1e-05, momentum=0.1, affine=True, track_running_stats=True)\n",
       "      )\n",
       "      (2): BasicBlock(\n",
       "        (conv1): Conv2d(512, 512, kernel_size=(3, 3), stride=(1, 1), padding=(1, 1), bias=False)\n",
       "        (bn1): BatchNorm2d(512, eps=1e-05, momentum=0.1, affine=True, track_running_stats=True)\n",
       "        (relu): ReLU(inplace=True)\n",
       "        (conv2): Conv2d(512, 512, kernel_size=(3, 3), stride=(1, 1), padding=(1, 1), bias=False)\n",
       "        (bn2): BatchNorm2d(512, eps=1e-05, momentum=0.1, affine=True, track_running_stats=True)\n",
       "      )\n",
       "    )\n",
       "    (avgpool): AdaptiveAvgPool2d(output_size=(1, 1))\n",
       "    (fc): Linear(in_features=512, out_features=3, bias=True)\n",
       "  )\n",
       "  (dnn_network): ModuleList(\n",
       "    (0): Linear(in_features=2, out_features=16, bias=True)\n",
       "    (1): Linear(in_features=16, out_features=32, bias=True)\n",
       "  )\n",
       "  (dropout): Dropout(p=0.65, inplace=False)\n",
       "  (bn): ModuleList(\n",
       "    (0): BatchNorm1d(16, eps=1e-05, momentum=0.1, affine=True, track_running_stats=True)\n",
       "    (1): BatchNorm1d(32, eps=1e-05, momentum=0.1, affine=True, track_running_stats=True)\n",
       "  )\n",
       "  (fc): Linear(in_features=35, out_features=3, bias=True)\n",
       ")"
      ]
     },
     "execution_count": 312,
     "metadata": {},
     "output_type": "execute_result"
    }
   ],
   "source": [
    "hidden_units = [2, 16, 32]\n",
    "dnn_dropout = 0.65\n",
    "model_2 = Dnn(hidden_units, dnn_dropout, use_bn=True)\n",
    "optimizer = torch.optim.Adam(model_2.parameters(), lr=1e-3)\n",
    "model_2.to(device)"
   ]
  },
  {
   "cell_type": "code",
   "execution_count": 313,
   "metadata": {},
   "outputs": [
    {
     "name": "stderr",
     "output_type": "stream",
     "text": [
      "  0%|          | 0/10 [00:00<?, ?it/s]"
     ]
    },
    {
     "name": "stdout",
     "output_type": "stream",
     "text": [
      "Epoch 1, duration: 91 s, loss: 1.1761, acc: 34.7336\n"
     ]
    },
    {
     "name": "stderr",
     "output_type": "stream",
     "text": [
      " 10%|█         | 1/10 [01:47<16:10, 107.84s/it]"
     ]
    },
    {
     "name": "stdout",
     "output_type": "stream",
     "text": [
      "Accuracy of the network on the test images: 35 %\n",
      "Epoch 2, duration: 90 s, loss: 1.1097, acc: 36.9536\n"
     ]
    },
    {
     "name": "stderr",
     "output_type": "stream",
     "text": [
      " 20%|██        | 2/10 [03:33<14:14, 106.80s/it]"
     ]
    },
    {
     "name": "stdout",
     "output_type": "stream",
     "text": [
      "Accuracy of the network on the test images: 37 %\n",
      "Epoch 3, duration: 90 s, loss: 1.0968, acc: 37.5000\n"
     ]
    },
    {
     "name": "stderr",
     "output_type": "stream",
     "text": [
      " 30%|███       | 3/10 [05:20<12:27, 106.84s/it]"
     ]
    },
    {
     "name": "stdout",
     "output_type": "stream",
     "text": [
      "Accuracy of the network on the test images: 37 %\n",
      "Epoch 4, duration: 91 s, loss: 1.0832, acc: 38.5587\n"
     ]
    },
    {
     "name": "stderr",
     "output_type": "stream",
     "text": [
      " 40%|████      | 4/10 [07:07<10:41, 106.96s/it]"
     ]
    },
    {
     "name": "stdout",
     "output_type": "stream",
     "text": [
      "Accuracy of the network on the test images: 39 %\n",
      "Epoch 5, duration: 90 s, loss: 1.0817, acc: 38.7295\n"
     ]
    },
    {
     "name": "stderr",
     "output_type": "stream",
     "text": [
      " 50%|█████     | 5/10 [08:54<08:54, 106.98s/it]"
     ]
    },
    {
     "name": "stdout",
     "output_type": "stream",
     "text": [
      "Accuracy of the network on the test images: 40 %\n",
      "Epoch 6, duration: 91 s, loss: 1.0789, acc: 40.7787\n"
     ]
    },
    {
     "name": "stderr",
     "output_type": "stream",
     "text": [
      " 60%|██████    | 6/10 [10:42<07:08, 107.13s/it]"
     ]
    },
    {
     "name": "stdout",
     "output_type": "stream",
     "text": [
      "Accuracy of the network on the test images: 36 %\n",
      "Epoch 7, duration: 91 s, loss: 1.0777, acc: 38.5246\n"
     ]
    },
    {
     "name": "stderr",
     "output_type": "stream",
     "text": [
      " 70%|███████   | 7/10 [12:30<05:22, 107.35s/it]"
     ]
    },
    {
     "name": "stdout",
     "output_type": "stream",
     "text": [
      "Accuracy of the network on the test images: 38 %\n",
      "Epoch 8, duration: 91 s, loss: 1.0803, acc: 39.0710\n"
     ]
    },
    {
     "name": "stderr",
     "output_type": "stream",
     "text": [
      " 80%|████████  | 8/10 [14:17<03:34, 107.32s/it]"
     ]
    },
    {
     "name": "stdout",
     "output_type": "stream",
     "text": [
      "Accuracy of the network on the test images: 40 %\n",
      "Epoch 9, duration: 91 s, loss: 1.0797, acc: 39.6516\n"
     ]
    },
    {
     "name": "stderr",
     "output_type": "stream",
     "text": [
      " 90%|█████████ | 9/10 [16:04<01:47, 107.34s/it]"
     ]
    },
    {
     "name": "stdout",
     "output_type": "stream",
     "text": [
      "Accuracy of the network on the test images: 40 %\n",
      "Epoch 10, duration: 90 s, loss: 1.0833, acc: 38.6612\n"
     ]
    },
    {
     "name": "stderr",
     "output_type": "stream",
     "text": [
      "100%|██████████| 10/10 [17:51<00:00, 107.16s/it]"
     ]
    },
    {
     "name": "stdout",
     "output_type": "stream",
     "text": [
      "Accuracy of the network on the test images: 39 %\n",
      "Finished Training\n"
     ]
    },
    {
     "name": "stderr",
     "output_type": "stream",
     "text": [
      "\n"
     ]
    }
   ],
   "source": [
    "model, training_losses, training_accs, test_accs = train_model_2(model_2, criterion, optimizer, n_epochs=10)"
   ]
  },
  {
   "cell_type": "code",
   "execution_count": 314,
   "metadata": {},
   "outputs": [
    {
     "data": {
      "text/plain": [
       "Text(0.5, 1.0, 'Test acc')"
      ]
     },
     "execution_count": 314,
     "metadata": {},
     "output_type": "execute_result"
    },
    {
     "data": {
      "image/png": "[encoded data removed]",
      "text/plain": [
       "<Figure size 1200x800 with 4 Axes>"
      ]
     },
     "metadata": {},
     "output_type": "display_data"
    }
   ],
   "source": [
    "# plot the stats\n",
    "f, axarr = plt.subplots(2,2, figsize = (12, 8))\n",
    "axarr[0, 0].plot(training_losses)\n",
    "axarr[0, 0].set_title(\"Training loss\")\n",
    "axarr[0, 1].plot(training_accs)\n",
    "axarr[0, 1].set_title(\"Training acc\")\n",
    "axarr[1, 0].plot(test_accs)\n",
    "axarr[1, 0].set_title(\"Test acc\")"
   ]
  },
  {
   "cell_type": "code",
   "execution_count": 66,
   "metadata": {},
   "outputs": [],
   "source": [
    "# X_train.head()"
   ]
  },
  {
   "cell_type": "markdown",
   "metadata": {},
   "source": [
    "## Part 5: Neural Network Model Training with Embeddings Extracted from Clip"
   ]
  },
  {
   "cell_type": "markdown",
   "metadata": {},
   "source": [
    "### 5.1 Extract pictures' embeddings via vision transformers "
   ]
  },
  {
   "cell_type": "code",
   "execution_count": 67,
   "metadata": {},
   "outputs": [],
   "source": [
    "# model, preprocess = clip.load(\"ViT-B/32\", device=device)"
   ]
  },
  {
   "cell_type": "code",
   "execution_count": 68,
   "metadata": {},
   "outputs": [],
   "source": [
    "# image_features_train = []\n",
    "# for image_path in tqdm(X_train['image_path']):\n",
    "#     image = preprocess(Image.open(image_path)).unsqueeze(0).to(device)\n",
    "#     with torch.no_grad():\n",
    "#         image_features = model.encode_image(image)\n",
    "#     image_features_train.append(image_features.cpu().numpy())"
   ]
  },
  {
   "cell_type": "code",
   "execution_count": 69,
   "metadata": {},
   "outputs": [],
   "source": [
    "# image_features_test = []\n",
    "# for image_path in tqdm(X_test['image_path']):\n",
    "#     image = preprocess(Image.open(image_path)).unsqueeze(0).to(device)\n",
    "#     with torch.no_grad():\n",
    "#         image_features = model.encode_image(image)\n",
    "#     image_features_test.append(image_features.cpu().numpy())"
   ]
  },
  {
   "cell_type": "code",
   "execution_count": 70,
   "metadata": {},
   "outputs": [],
   "source": [
    "# features_train = np.concatenate((X_train_scaled, np.vstack(image_features_train)), axis=1)\n",
    "# features_test = np.concatenate((X_test_scaled, np.vstack(image_features_test)), axis=1)"
   ]
  },
  {
   "cell_type": "code",
   "execution_count": 71,
   "metadata": {},
   "outputs": [],
   "source": [
    "# np.save('features_train.npy', features_train)\n",
    "# np.save('features_test.npy', features_test)"
   ]
  },
  {
   "cell_type": "code",
   "execution_count": 394,
   "metadata": {},
   "outputs": [],
   "source": [
    "features_train = np.load('features_train.npy')\n",
    "features_test = np.load('features_test.npy')"
   ]
  },
  {
   "cell_type": "markdown",
   "metadata": {},
   "source": [
    "### 5.2 Model building"
   ]
  },
  {
   "cell_type": "markdown",
   "metadata": {},
   "source": [
    "#### 5.2.1 Data ETL Pipeline building"
   ]
  },
  {
   "cell_type": "code",
   "execution_count": 132,
   "metadata": {},
   "outputs": [],
   "source": [
    "class AllDataset(Dataset):\n",
    "\n",
    "    def __init__(self, data, labels):\n",
    "\n",
    "        self.X = torch.tensor(data.astype(np.float32))\n",
    "        self.Y =  torch.tensor(labels)\n",
    "\n",
    "    def __getitem__(self, idx):\n",
    "\n",
    "        x = self.X[idx]\n",
    "        y  = self.Y[idx]\n",
    "\n",
    "        return x, y\n",
    "\n",
    "    def __len__(self):\n",
    "        return len(self.Y)"
   ]
  },
  {
   "cell_type": "code",
   "execution_count": 133,
   "metadata": {},
   "outputs": [],
   "source": [
    "train_dataset = AllDataset(features_train,encoded_labels_train)\n",
    "test_dataset = AllDataset(features_test, encoded_labels_test)\n",
    "trainloader = torch.utils.data.DataLoader(train_dataset, batch_size=32, shuffle=True)\n",
    "testloader = torch.utils.data.DataLoader(test_dataset, batch_size=32, shuffle=True)"
   ]
  },
  {
   "cell_type": "markdown",
   "metadata": {},
   "source": [
    "#### 5.2.2 Model training"
   ]
  },
  {
   "cell_type": "code",
   "execution_count": 160,
   "metadata": {},
   "outputs": [],
   "source": [
    "class NN(nn.Module):\n",
    "    \n",
    "    def __init__(self, hidden_units, dropout_rate=0., use_bn = False):\n",
    "\n",
    "        super(NN, self).__init__()\n",
    "        \n",
    "        self.dnn_network = nn.ModuleList([nn.Linear(layer[0], layer[1]) for layer in list(zip(hidden_units[:-1], hidden_units[1:]))])\n",
    "        self.dropout = nn.Dropout(p = dropout_rate)\n",
    "        self.use_bn = use_bn\n",
    "        if use_bn:\n",
    "            self.bn = nn.ModuleList([nn.BatchNorm1d(hidden_units[i + 1]) for i in range(len(hidden_units) - 1)])\n",
    "    \n",
    "    def forward(self, x):\n",
    "        \n",
    "        for i, linear in enumerate(self.dnn_network):\n",
    "            x = linear(x)\n",
    "            if self.use_bn:\n",
    "                x = self.bn[i](x)\n",
    "            x = F.relu(x)\n",
    "            x = self.dropout(x)\n",
    "\n",
    "        return x"
   ]
  },
  {
   "cell_type": "code",
   "execution_count": 167,
   "metadata": {},
   "outputs": [],
   "source": [
    "hidden_units = [520, 256, 128, 3]\n",
    "dnn_dropout = 0.6\n",
    "model_3 = NN(hidden_units, dnn_dropout, use_bn=True)\n",
    "criterion = nn.CrossEntropyLoss()\n",
    "optimizer = torch.optim.Adam(model_3.parameters(), lr=1e-3)\n",
    "lrscheduler = optim.lr_scheduler.ReduceLROnPlateau(optimizer, mode='max', patience=3, threshold = 0.9)\n",
    "# model_3.to(device)"
   ]
  },
  {
   "cell_type": "code",
   "execution_count": 168,
   "metadata": {},
   "outputs": [],
   "source": [
    "def train_model(model, criterion, optimizer, scheduler, n_epochs=10):\n",
    "\n",
    "    losses = []\n",
    "    accuracies = []\n",
    "    test_accuracies = []\n",
    "\n",
    "    model.train()\n",
    "    for epoch in tqdm(range(n_epochs)):\n",
    "        since = time.time()\n",
    "        running_loss = 0.0\n",
    "        running_correct = 0.0\n",
    "        for i, data in enumerate(trainloader, 0):\n",
    "            inputs, labels = data\n",
    "            optimizer.zero_grad()\n",
    "            \n",
    "            outputs = model(inputs)\n",
    "            _, predicted = torch.max(outputs.data, 1)\n",
    "            \n",
    "            loss = criterion(outputs, labels)\n",
    "            loss.backward()\n",
    "            optimizer.step()\n",
    "\n",
    "            running_loss += loss.item() \n",
    "            running_correct += (labels==predicted).sum().item()\n",
    "\n",
    "        epoch_duration = time.time() - since\n",
    "        epoch_loss = running_loss / len(trainloader)\n",
    "        epoch_acc = 100 / 32 * running_correct / len(trainloader) #(100 * correct) / (32 * len(trainloader))\n",
    "        print(\"Epoch %s, duration: %d s, loss: %.4f, acc: %.4f\" % (epoch+1, epoch_duration, epoch_loss, epoch_acc))\n",
    "        \n",
    "        losses.append(epoch_loss)\n",
    "        accuracies.append(epoch_acc)\n",
    "        \n",
    "        # switch the model to eval mode to evaluate on test data\n",
    "        model.eval()\n",
    "        test_acc = eval_model(model)\n",
    "        test_accuracies.append(test_acc)\n",
    "        \n",
    "        # re-set the model to train mode after validating\n",
    "        model.train()\n",
    "        scheduler.step(test_acc)\n",
    "        since = time.time()\n",
    "    print('Finished Training')\n",
    "    return model, losses, accuracies, test_accuracies"
   ]
  },
  {
   "cell_type": "code",
   "execution_count": 169,
   "metadata": {},
   "outputs": [],
   "source": [
    "# This function is called out after each epoch of training on the training data to measure the accuracy of the model\n",
    "def eval_model(model):\n",
    "    correct = 0.0\n",
    "    total = 0.0\n",
    "    with torch.no_grad():\n",
    "        for i, data in enumerate(testloader, 0):\n",
    "            images, labels = data\n",
    "\n",
    "            outputs = model(images)\n",
    "            _, predicted = torch.max(outputs.data, 1)\n",
    "\n",
    "            total += labels.size(0)\n",
    "            correct += (predicted == labels).sum().item()\n",
    "\n",
    "    test_acc = 100.0 * correct / total\n",
    "    print('Accuracy of the network on the test images: %d %%' % (test_acc))\n",
    "    return test_acc"
   ]
  },
  {
   "cell_type": "code",
   "execution_count": 170,
   "metadata": {},
   "outputs": [
    {
     "name": "stderr",
     "output_type": "stream",
     "text": [
      "  5%|▌         | 1/20 [00:00<00:06,  2.96it/s]"
     ]
    },
    {
     "name": "stdout",
     "output_type": "stream",
     "text": [
      "Epoch 1, duration: 0 s, loss: 1.3214, acc: 34.7147\n",
      "Accuracy of the network on the test images: 47 %\n"
     ]
    },
    {
     "name": "stderr",
     "output_type": "stream",
     "text": [
      " 10%|█         | 2/20 [00:00<00:05,  3.03it/s]"
     ]
    },
    {
     "name": "stdout",
     "output_type": "stream",
     "text": [
      "Epoch 2, duration: 0 s, loss: 1.1690, acc: 36.9905\n",
      "Accuracy of the network on the test images: 49 %\n"
     ]
    },
    {
     "name": "stderr",
     "output_type": "stream",
     "text": [
      " 15%|█▌        | 3/20 [00:00<00:05,  3.07it/s]"
     ]
    },
    {
     "name": "stdout",
     "output_type": "stream",
     "text": [
      "Epoch 3, duration: 0 s, loss: 1.1298, acc: 37.7038\n",
      "Accuracy of the network on the test images: 49 %\n"
     ]
    },
    {
     "name": "stderr",
     "output_type": "stream",
     "text": [
      " 20%|██        | 4/20 [00:01<00:05,  3.02it/s]"
     ]
    },
    {
     "name": "stdout",
     "output_type": "stream",
     "text": [
      "Epoch 4, duration: 0 s, loss: 1.0726, acc: 39.3682\n",
      "Accuracy of the network on the test images: 50 %\n"
     ]
    },
    {
     "name": "stderr",
     "output_type": "stream",
     "text": [
      " 25%|██▌       | 5/20 [00:01<00:04,  3.05it/s]"
     ]
    },
    {
     "name": "stdout",
     "output_type": "stream",
     "text": [
      "Epoch 5, duration: 0 s, loss: 1.0732, acc: 38.9606\n",
      "Accuracy of the network on the test images: 50 %\n"
     ]
    },
    {
     "name": "stderr",
     "output_type": "stream",
     "text": [
      " 30%|███       | 6/20 [00:01<00:04,  3.07it/s]"
     ]
    },
    {
     "name": "stdout",
     "output_type": "stream",
     "text": [
      "Epoch 6, duration: 0 s, loss: 1.0421, acc: 40.9647\n",
      "Accuracy of the network on the test images: 51 %\n"
     ]
    },
    {
     "name": "stderr",
     "output_type": "stream",
     "text": [
      " 35%|███▌      | 7/20 [00:02<00:04,  3.14it/s]"
     ]
    },
    {
     "name": "stdout",
     "output_type": "stream",
     "text": [
      "Epoch 7, duration: 0 s, loss: 1.0481, acc: 39.8777\n",
      "Accuracy of the network on the test images: 51 %\n"
     ]
    },
    {
     "name": "stderr",
     "output_type": "stream",
     "text": [
      " 40%|████      | 8/20 [00:02<00:03,  3.20it/s]"
     ]
    },
    {
     "name": "stdout",
     "output_type": "stream",
     "text": [
      "Epoch 8, duration: 0 s, loss: 1.0454, acc: 40.9986\n",
      "Accuracy of the network on the test images: 52 %\n"
     ]
    },
    {
     "name": "stderr",
     "output_type": "stream",
     "text": [
      " 45%|████▌     | 9/20 [00:02<00:03,  3.23it/s]"
     ]
    },
    {
     "name": "stdout",
     "output_type": "stream",
     "text": [
      "Epoch 9, duration: 0 s, loss: 1.0450, acc: 40.0136\n",
      "Accuracy of the network on the test images: 52 %\n"
     ]
    },
    {
     "name": "stderr",
     "output_type": "stream",
     "text": [
      " 50%|█████     | 10/20 [00:03<00:03,  3.25it/s]"
     ]
    },
    {
     "name": "stdout",
     "output_type": "stream",
     "text": [
      "Epoch 10, duration: 0 s, loss: 1.0336, acc: 40.2174\n",
      "Accuracy of the network on the test images: 51 %\n"
     ]
    },
    {
     "name": "stderr",
     "output_type": "stream",
     "text": [
      " 55%|█████▌    | 11/20 [00:03<00:02,  3.27it/s]"
     ]
    },
    {
     "name": "stdout",
     "output_type": "stream",
     "text": [
      "Epoch 11, duration: 0 s, loss: 1.0471, acc: 40.2853\n",
      "Accuracy of the network on the test images: 52 %\n"
     ]
    },
    {
     "name": "stderr",
     "output_type": "stream",
     "text": [
      " 60%|██████    | 12/20 [00:03<00:02,  3.28it/s]"
     ]
    },
    {
     "name": "stdout",
     "output_type": "stream",
     "text": [
      "Epoch 12, duration: 0 s, loss: 1.0422, acc: 39.9117\n",
      "Accuracy of the network on the test images: 52 %\n"
     ]
    },
    {
     "name": "stderr",
     "output_type": "stream",
     "text": [
      " 65%|██████▌   | 13/20 [00:04<00:02,  3.21it/s]"
     ]
    },
    {
     "name": "stdout",
     "output_type": "stream",
     "text": [
      "Epoch 13, duration: 0 s, loss: 1.0375, acc: 39.6399\n",
      "Accuracy of the network on the test images: 51 %\n"
     ]
    },
    {
     "name": "stderr",
     "output_type": "stream",
     "text": [
      " 70%|███████   | 14/20 [00:04<00:01,  3.23it/s]"
     ]
    },
    {
     "name": "stdout",
     "output_type": "stream",
     "text": [
      "Epoch 14, duration: 0 s, loss: 1.0355, acc: 41.3383\n",
      "Accuracy of the network on the test images: 52 %\n"
     ]
    },
    {
     "name": "stderr",
     "output_type": "stream",
     "text": [
      " 75%|███████▌  | 15/20 [00:04<00:01,  3.29it/s]"
     ]
    },
    {
     "name": "stdout",
     "output_type": "stream",
     "text": [
      "Epoch 15, duration: 0 s, loss: 1.0300, acc: 40.9986\n",
      "Accuracy of the network on the test images: 51 %\n"
     ]
    },
    {
     "name": "stderr",
     "output_type": "stream",
     "text": [
      " 80%|████████  | 16/20 [00:05<00:01,  3.31it/s]"
     ]
    },
    {
     "name": "stdout",
     "output_type": "stream",
     "text": [
      "Epoch 16, duration: 0 s, loss: 1.0364, acc: 40.4891\n",
      "Accuracy of the network on the test images: 52 %\n"
     ]
    },
    {
     "name": "stderr",
     "output_type": "stream",
     "text": [
      " 85%|████████▌ | 17/20 [00:05<00:00,  3.30it/s]"
     ]
    },
    {
     "name": "stdout",
     "output_type": "stream",
     "text": [
      "Epoch 17, duration: 0 s, loss: 1.0408, acc: 39.5041\n",
      "Accuracy of the network on the test images: 52 %\n"
     ]
    },
    {
     "name": "stderr",
     "output_type": "stream",
     "text": [
      " 90%|█████████ | 18/20 [00:05<00:00,  3.29it/s]"
     ]
    },
    {
     "name": "stdout",
     "output_type": "stream",
     "text": [
      "Epoch 18, duration: 0 s, loss: 1.0473, acc: 39.1304\n",
      "Accuracy of the network on the test images: 52 %\n"
     ]
    },
    {
     "name": "stderr",
     "output_type": "stream",
     "text": [
      " 95%|█████████▌| 19/20 [00:05<00:00,  3.29it/s]"
     ]
    },
    {
     "name": "stdout",
     "output_type": "stream",
     "text": [
      "Epoch 19, duration: 0 s, loss: 1.0443, acc: 40.7609\n",
      "Accuracy of the network on the test images: 52 %\n"
     ]
    },
    {
     "name": "stderr",
     "output_type": "stream",
     "text": [
      "100%|██████████| 20/20 [00:06<00:00,  3.21it/s]"
     ]
    },
    {
     "name": "stdout",
     "output_type": "stream",
     "text": [
      "Epoch 20, duration: 0 s, loss: 1.0575, acc: 38.9606\n",
      "Accuracy of the network on the test images: 52 %\n",
      "Finished Training\n"
     ]
    },
    {
     "name": "stderr",
     "output_type": "stream",
     "text": [
      "\n"
     ]
    }
   ],
   "source": [
    "model_3, training_losses, training_accs, test_accs = train_model(model_3, criterion, optimizer, lrscheduler, n_epochs=20)"
   ]
  },
  {
   "cell_type": "code",
   "execution_count": 172,
   "metadata": {},
   "outputs": [
    {
     "data": {
      "image/png": "[encoded data removed]",
      "text/plain": [
       "<Figure size 1200x600 with 2 Axes>"
      ]
     },
     "metadata": {},
     "output_type": "display_data"
    }
   ],
   "source": [
    "epochs = list(range(1, 21))\n",
    "plt.figure(figsize=(12, 6))\n",
    "\n",
    "# Plot for Training Loss\n",
    "plt.subplot(1, 2, 1)  \n",
    "plt.plot(epochs, training_losses, label='Training Loss', color='blue')\n",
    "plt.title('Training Loss per Epoch')\n",
    "plt.xlabel('Epoch')\n",
    "plt.ylabel('Loss')\n",
    "plt.grid(True)\n",
    "\n",
    "# Plot for Test Accuracy\n",
    "plt.subplot(1, 2, 2)  \n",
    "plt.plot(epochs, test_accs, label='Test Accuracy', color='red')\n",
    "plt.title('Test Accuracy per Epoch')\n",
    "plt.xlabel('Epoch')\n",
    "plt.ylabel('Accuracy')\n",
    "plt.grid(True)\n",
    "\n",
    "plt.tight_layout()\n",
    "plt.show()"
   ]
  },
  {
   "cell_type": "markdown",
   "metadata": {},
   "source": [
    "## Part 6: Train Traditional Models with Both Images Features and Metadata"
   ]
  },
  {
   "cell_type": "code",
   "execution_count": 396,
   "metadata": {},
   "outputs": [
    {
     "name": "stdout",
     "output_type": "stream",
     "text": [
      "Accuracy for knn: 0.5450819672131147\n"
     ]
    }
   ],
   "source": [
    "knn = KNeighborsClassifier(n_neighbors=5)\n",
    "knn.fit(features_train, y_train)\n",
    "y_pred_knn = knn.predict(features_test)\n",
    "accuracy_knn = accuracy_score(y_test, y_pred_knn)\n",
    "print(f\"Accuracy for knn: {accuracy_knn}\")"
   ]
  },
  {
   "cell_type": "code",
   "execution_count": 399,
   "metadata": {},
   "outputs": [
    {
     "name": "stdout",
     "output_type": "stream",
     "text": [
      "Best score: 0.7144292237442922\n",
      "Best parameters set:\n",
      "max_depth:10\n",
      "n_estimators:100\n"
     ]
    }
   ],
   "source": [
    "parameters = {\n",
    "    'n_estimators' : [60,80,100],\n",
    "    'max_depth': [1,5,10]\n",
    "}\n",
    "Grid_RF = GridSearchCV(RandomForestClassifier(), parameters, cv=5)\n",
    "Grid_RF.fit(features_train, y_train)\n",
    "print_grid_search_metrics(Grid_RF)"
   ]
  },
  {
   "cell_type": "code",
   "execution_count": 400,
   "metadata": {},
   "outputs": [
    {
     "name": "stdout",
     "output_type": "stream",
     "text": [
      "Accuracy for random forest: 0.7090163934426229\n"
     ]
    }
   ],
   "source": [
    "rf = Grid_RF.best_estimator_\n",
    "rf.fit(features_train, y_train)\n",
    "y_pred_rf = rf.predict(features_test)\n",
    "accuracy_rf = accuracy_score(y_test, y_pred_rf)\n",
    "print(f\"Accuracy for random forest: {accuracy_rf}\")"
   ]
  },
  {
   "cell_type": "markdown",
   "metadata": {},
   "source": [
    "Models with both images and metadata does not outperform models using just nemerical metadata."
   ]
  },
  {
   "cell_type": "markdown",
   "metadata": {},
   "source": []
  }
 ],
 "metadata": {
  "kernelspec": {
   "display_name": "Python 3",
   "language": "python",
   "name": "python3"
  },
  "language_info": {
   "codemirror_mode": {
    "name": "ipython",
    "version": 3
   },
   "file_extension": ".py",
   "mimetype": "text/x-python",
   "name": "python",
   "nbconvert_exporter": "python",
   "pygments_lexer": "ipython3",
   "version": "3.9.6"
  }
 },
 "nbformat": 4,
 "nbformat_minor": 2
}
